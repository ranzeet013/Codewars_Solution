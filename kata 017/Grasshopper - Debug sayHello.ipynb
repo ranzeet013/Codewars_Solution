{
 "cells": [
  {
   "cell_type": "markdown",
   "id": "d19d34f1",
   "metadata": {},
   "source": [
    "### DESCRIPTION:\n",
    "\n",
    "#### Debugging sayHello function\n",
    "\n",
    "The starship Enterprise has run into some problem when creating a program to greet everyone as they come aboard. It is your job to fix the code and get the program working again!\n",
    "\n",
    "Example output:\n",
    "\n",
    "Hello, Mr. Spock"
   ]
  },
  {
   "cell_type": "code",
   "execution_count": 2,
   "id": "8e81af24",
   "metadata": {},
   "outputs": [],
   "source": [
    "def say_hello(name):\n",
    "    return \"Hello, \" + name"
   ]
  },
  {
   "cell_type": "code",
   "execution_count": 4,
   "id": "366be202",
   "metadata": {},
   "outputs": [
    {
     "data": {
      "text/plain": [
       "'Hello, Eto'"
      ]
     },
     "execution_count": 4,
     "metadata": {},
     "output_type": "execute_result"
    }
   ],
   "source": [
    "say_hello(\"Eto\")"
   ]
  },
  {
   "cell_type": "code",
   "execution_count": null,
   "id": "9d825630",
   "metadata": {},
   "outputs": [],
   "source": []
  }
 ],
 "metadata": {
  "kernelspec": {
   "display_name": "Python 3 (ipykernel)",
   "language": "python",
   "name": "python3"
  },
  "language_info": {
   "codemirror_mode": {
    "name": "ipython",
    "version": 3
   },
   "file_extension": ".py",
   "mimetype": "text/x-python",
   "name": "python",
   "nbconvert_exporter": "python",
   "pygments_lexer": "ipython3",
   "version": "3.11.3"
  }
 },
 "nbformat": 4,
 "nbformat_minor": 5
}
