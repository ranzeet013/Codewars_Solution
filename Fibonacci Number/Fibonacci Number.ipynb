{
 "cells": [
  {
   "cell_type": "code",
   "execution_count": 8,
   "id": "901fb46c",
   "metadata": {},
   "outputs": [
    {
     "name": "stdout",
     "output_type": "stream",
     "text": [
      "0\n",
      "55\n",
      "6765\n",
      "610\n"
     ]
    }
   ],
   "source": [
    "def fibonacci_number(n):\n",
    "    if n == 0:\n",
    "        return 0               #if n is 0 return 0\n",
    "    elif n == 1:\n",
    "        return 1               #if n is 1 return 1\n",
    "    else:\n",
    "        return fibonacci_number(n - 1) + fibonacci_number(n - 2)           #calculating fibonaccci series\n",
    "print(fibonacci_number(0))  \n",
    "print(fibonacci_number(10)) \n",
    "print(fibonacci_number(20))\n",
    "print(fibonacci_number(15))"
   ]
  }
 ],
 "metadata": {
  "kernelspec": {
   "display_name": "Python 3 (ipykernel)",
   "language": "python",
   "name": "python3"
  },
  "language_info": {
   "codemirror_mode": {
    "name": "ipython",
    "version": 3
   },
   "file_extension": ".py",
   "mimetype": "text/x-python",
   "name": "python",
   "nbconvert_exporter": "python",
   "pygments_lexer": "ipython3",
   "version": "3.10.9"
  }
 },
 "nbformat": 4,
 "nbformat_minor": 5
}
