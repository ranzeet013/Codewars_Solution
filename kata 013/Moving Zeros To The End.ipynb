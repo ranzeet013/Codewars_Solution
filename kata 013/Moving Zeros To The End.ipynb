{
 "cells": [
  {
   "cell_type": "markdown",
   "id": "16deb886",
   "metadata": {},
   "source": [
    "#### DESCRIPTION:\n",
    "\n",
    "Write an algorithm that takes an array and moves all of the zeros to the end, preserving the order of the other elements.\n",
    "\n",
    "move_zeros([1, 0, 1, 2, 0, 1, 3])  # returns [1, 1, 2, 1, 3, 0, 0]"
   ]
  },
  {
   "cell_type": "code",
   "execution_count": 1,
   "id": "10eb2bbc",
   "metadata": {},
   "outputs": [],
   "source": [
    "def move_zeros(array):\n",
    "    non_zeros = [x for x in array if x != 0]\n",
    "    zeros = [0] * (len(array) - len(non_zeros))\n",
    "    result = non_zeros + zeros\n",
    "    return result"
   ]
  },
  {
   "cell_type": "code",
   "execution_count": 2,
   "id": "4ae1bc28",
   "metadata": {},
   "outputs": [
    {
     "data": {
      "text/plain": [
       "[5, 34, 12, 21, 34, 23, 2, 0, 0, 0, 0]"
      ]
     },
     "execution_count": 2,
     "metadata": {},
     "output_type": "execute_result"
    }
   ],
   "source": [
    "move_zeros([5, 0, 34, 12, 0, 21, 34, 0, 23, 2, 0])"
   ]
  },
  {
   "cell_type": "code",
   "execution_count": null,
   "id": "94fa8d1b",
   "metadata": {},
   "outputs": [],
   "source": []
  }
 ],
 "metadata": {
  "kernelspec": {
   "display_name": "Python 3 (ipykernel)",
   "language": "python",
   "name": "python3"
  },
  "language_info": {
   "codemirror_mode": {
    "name": "ipython",
    "version": 3
   },
   "file_extension": ".py",
   "mimetype": "text/x-python",
   "name": "python",
   "nbconvert_exporter": "python",
   "pygments_lexer": "ipython3",
   "version": "3.11.3"
  }
 },
 "nbformat": 4,
 "nbformat_minor": 5
}
