{
 "cells": [
  {
   "cell_type": "markdown",
   "id": "62e9a5ff",
   "metadata": {},
   "source": [
    "#### DESCRIPTION:\n",
    "\n",
    "Complete the function that takes a non-negative integer n as input, and returns a list of all the powers of 2 with the exponent ranging from 0 to n ( inclusive ).\n",
    "\n",
    "#### Examples\n",
    "\n",
    "n = 0  ==> [1]        # [2^0]\n",
    "\n",
    "n = 1  ==> [1, 2]     # [2^0, 2^1]\n",
    "\n",
    "n = 2  ==> [1, 2, 4]  # [2^0, 2^1, 2^2]"
   ]
  },
  {
   "cell_type": "code",
   "execution_count": 1,
   "id": "a4c2798f",
   "metadata": {},
   "outputs": [],
   "source": [
    "def powers_of_two(number):\n",
    "    return [2 ** i for i in range(number + 1)]"
   ]
  },
  {
   "cell_type": "code",
   "execution_count": 5,
   "id": "1211cdf3",
   "metadata": {},
   "outputs": [
    {
     "data": {
      "text/plain": [
       "[1, 2, 4, 8, 16, 32, 64, 128, 256, 512, 1024, 2048, 4096]"
      ]
     },
     "execution_count": 5,
     "metadata": {},
     "output_type": "execute_result"
    }
   ],
   "source": [
    "powers_of_two(12)"
   ]
  },
  {
   "cell_type": "code",
   "execution_count": null,
   "id": "3d907743",
   "metadata": {},
   "outputs": [],
   "source": []
  }
 ],
 "metadata": {
  "kernelspec": {
   "display_name": "Python 3 (ipykernel)",
   "language": "python",
   "name": "python3"
  },
  "language_info": {
   "codemirror_mode": {
    "name": "ipython",
    "version": 3
   },
   "file_extension": ".py",
   "mimetype": "text/x-python",
   "name": "python",
   "nbconvert_exporter": "python",
   "pygments_lexer": "ipython3",
   "version": "3.11.3"
  }
 },
 "nbformat": 4,
 "nbformat_minor": 5
}
