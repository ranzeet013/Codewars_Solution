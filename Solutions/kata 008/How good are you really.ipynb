{
 "cells": [
  {
   "cell_type": "markdown",
   "id": "9b381e99",
   "metadata": {},
   "source": [
    "#### DESCRIPTION:\n",
    "There was a test in your class and you passed it. Congratulations!\n",
    "But you're an ambitious person. You want to know if you're better than the average student in your class.\n",
    "\n",
    "You receive an array with your peers' test scores. Now calculate the average and compare your score!\n",
    "\n",
    "Return True if you're better, else False!\n",
    "\n",
    "#### Note:\n",
    "Your points are not included in the array of your class's points. For calculating the average point you may add your point to the given array!"
   ]
  },
  {
   "cell_type": "code",
   "execution_count": 1,
   "id": "079b9ea6",
   "metadata": {},
   "outputs": [],
   "source": [
    "def better_than_average(class_points, my_points):\n",
    "    all_points = class_points + [my_points]\n",
    "    average = sum(all_points) / len(all_points)\n",
    "    return my_points > average"
   ]
  },
  {
   "cell_type": "code",
   "execution_count": null,
   "id": "d3e2f18a",
   "metadata": {},
   "outputs": [],
   "source": []
  }
 ],
 "metadata": {
  "kernelspec": {
   "display_name": "Python 3 (ipykernel)",
   "language": "python",
   "name": "python3"
  },
  "language_info": {
   "codemirror_mode": {
    "name": "ipython",
    "version": 3
   },
   "file_extension": ".py",
   "mimetype": "text/x-python",
   "name": "python",
   "nbconvert_exporter": "python",
   "pygments_lexer": "ipython3",
   "version": "3.11.3"
  }
 },
 "nbformat": 4,
 "nbformat_minor": 5
}
