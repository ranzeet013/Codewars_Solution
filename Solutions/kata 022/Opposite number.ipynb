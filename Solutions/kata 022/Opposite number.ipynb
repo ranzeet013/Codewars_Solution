{
 "cells": [
  {
   "cell_type": "markdown",
   "id": "d2cdb61e",
   "metadata": {},
   "source": [
    "#### DESCRIPTION:\n",
    "\n",
    "Very simple, given a number (integer / decimal / both depending on the language), find its opposite (additive inverse).\n",
    "\n",
    "##### Examples:\n",
    "\n",
    "1: -1\n",
    "\n",
    "14: -14\n",
    "\n",
    "-34: 34"
   ]
  },
  {
   "cell_type": "code",
   "execution_count": 1,
   "id": "e1e58aab",
   "metadata": {},
   "outputs": [],
   "source": [
    "def opposite(number):\n",
    "    return -number"
   ]
  },
  {
   "cell_type": "code",
   "execution_count": 2,
   "id": "033460af",
   "metadata": {},
   "outputs": [
    {
     "data": {
      "text/plain": [
       "-1234"
      ]
     },
     "execution_count": 2,
     "metadata": {},
     "output_type": "execute_result"
    }
   ],
   "source": [
    "opposite(1234)"
   ]
  },
  {
   "cell_type": "code",
   "execution_count": null,
   "id": "e2fc21f0",
   "metadata": {},
   "outputs": [],
   "source": []
  }
 ],
 "metadata": {
  "kernelspec": {
   "display_name": "Python 3 (ipykernel)",
   "language": "python",
   "name": "python3"
  },
  "language_info": {
   "codemirror_mode": {
    "name": "ipython",
    "version": 3
   },
   "file_extension": ".py",
   "mimetype": "text/x-python",
   "name": "python",
   "nbconvert_exporter": "python",
   "pygments_lexer": "ipython3",
   "version": "3.11.3"
  }
 },
 "nbformat": 4,
 "nbformat_minor": 5
}
