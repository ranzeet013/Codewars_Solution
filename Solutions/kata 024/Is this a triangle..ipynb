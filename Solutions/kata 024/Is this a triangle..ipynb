{
 "cells": [
  {
   "cell_type": "markdown",
   "id": "0bfe9aaa",
   "metadata": {},
   "source": [
    "#### DESCRIPTION:\n",
    "\n",
    "Implement a function that accepts 3 integer values a, b, c. The function should return true if a triangle can be built with the sides of given length and false in any other case.\n",
    "\n",
    "(In this case, all triangles must have surface greater than 0 to be accepted).\n",
    "\n",
    "#### Examples:\n",
    "\n",
    "Input -> Output\n",
    "\n",
    "1,2,2 -> true\n",
    "\n",
    "4,2,3 -> true\n",
    "\n",
    "2,2,2 -> true\n",
    "\n",
    "1,2,3 -> false\n",
    "\n",
    "-5,1,3 -> false\n",
    "\n",
    "0,2,3 -> false\n",
    "\n",
    "1,2,9 -> false"
   ]
  },
  {
   "cell_type": "code",
   "execution_count": 1,
   "id": "ec67c0cb",
   "metadata": {},
   "outputs": [],
   "source": [
    "def is_triangle(a, b, c):\n",
    "    if a <= 0 or b <= 0 or c <= 0:\n",
    "        return False\n",
    "    if (a + b > c) and (a + c > b) and (b + c > a):\n",
    "        return True\n",
    "    else:\n",
    "        return False"
   ]
  },
  {
   "cell_type": "code",
   "execution_count": 2,
   "id": "43e6545a",
   "metadata": {},
   "outputs": [
    {
     "data": {
      "text/plain": [
       "True"
      ]
     },
     "execution_count": 2,
     "metadata": {},
     "output_type": "execute_result"
    }
   ],
   "source": [
    "is_triangle(2,4,5)"
   ]
  },
  {
   "cell_type": "code",
   "execution_count": null,
   "id": "d4d89bde",
   "metadata": {},
   "outputs": [],
   "source": []
  }
 ],
 "metadata": {
  "kernelspec": {
   "display_name": "Python 3 (ipykernel)",
   "language": "python",
   "name": "python3"
  },
  "language_info": {
   "codemirror_mode": {
    "name": "ipython",
    "version": 3
   },
   "file_extension": ".py",
   "mimetype": "text/x-python",
   "name": "python",
   "nbconvert_exporter": "python",
   "pygments_lexer": "ipython3",
   "version": "3.11.3"
  }
 },
 "nbformat": 4,
 "nbformat_minor": 5
}
