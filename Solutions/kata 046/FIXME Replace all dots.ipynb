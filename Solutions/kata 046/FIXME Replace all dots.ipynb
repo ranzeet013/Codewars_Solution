{
 "cells": [
  {
   "cell_type": "markdown",
   "id": "b31077e2",
   "metadata": {},
   "source": [
    "#### DESCRIPTION:\n",
    "\n",
    "The code provided is supposed replace all the dots . in the specified String str with dashes -\n",
    "\n",
    "But it's not working properly.\n",
    "\n",
    "#### Task\n",
    "\n",
    "Fix the bug so we can all go home early.\n",
    "\n",
    "#### Notes\n",
    "\n",
    "String str will never be null."
   ]
  },
  {
   "cell_type": "code",
   "execution_count": 1,
   "id": "bc575bae",
   "metadata": {},
   "outputs": [],
   "source": [
    "def replace_dots(string):\n",
    "    return string.replace('.', '-')"
   ]
  },
  {
   "cell_type": "code",
   "execution_count": 2,
   "id": "22e64903",
   "metadata": {},
   "outputs": [
    {
     "name": "stdout",
     "output_type": "stream",
     "text": [
      "This-is-a-dog\n"
     ]
    }
   ],
   "source": [
    "result = replace_dots(\"This.is.a.dog\")\n",
    "print(result) "
   ]
  },
  {
   "cell_type": "code",
   "execution_count": null,
   "id": "a106ffc5",
   "metadata": {},
   "outputs": [],
   "source": []
  }
 ],
 "metadata": {
  "kernelspec": {
   "display_name": "Python 3 (ipykernel)",
   "language": "python",
   "name": "python3"
  },
  "language_info": {
   "codemirror_mode": {
    "name": "ipython",
    "version": 3
   },
   "file_extension": ".py",
   "mimetype": "text/x-python",
   "name": "python",
   "nbconvert_exporter": "python",
   "pygments_lexer": "ipython3",
   "version": "3.11.3"
  }
 },
 "nbformat": 4,
 "nbformat_minor": 5
}
