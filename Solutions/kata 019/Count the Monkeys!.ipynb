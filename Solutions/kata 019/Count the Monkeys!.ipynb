{
 "cells": [
  {
   "cell_type": "markdown",
   "id": "a7f782ce",
   "metadata": {},
   "source": [
    "#### DESCRIPTION:\n",
    "\n",
    "You take your son to the forest to see the monkeys. You know that there are a certain number there (n), but your son is too young to just appreciate the full number, he has to start counting them from 1.\n",
    "\n",
    "As a good parent, you will sit and count with him. Given the number (n), populate an array with all numbers up to and including that number, but excluding zero.\n",
    "\n",
    "For example(Input --> Output):\n",
    "\n",
    "10 --> [1, 2, 3, 4, 5, 6, 7, 8, 9, 10]\n",
    "\n",
    " 1 --> [1]"
   ]
  },
  {
   "cell_type": "code",
   "execution_count": 1,
   "id": "451e60f5",
   "metadata": {},
   "outputs": [],
   "source": [
    "def monkey_count(n):\n",
    "    return list(range(1, n + 1))"
   ]
  },
  {
   "cell_type": "code",
   "execution_count": 2,
   "id": "1723e44a",
   "metadata": {},
   "outputs": [
    {
     "data": {
      "text/plain": [
       "[1, 2, 3, 4, 5, 6, 7, 8, 9, 10, 11, 12]"
      ]
     },
     "execution_count": 2,
     "metadata": {},
     "output_type": "execute_result"
    }
   ],
   "source": [
    "monkey_count(12)"
   ]
  },
  {
   "cell_type": "code",
   "execution_count": null,
   "id": "d930d442",
   "metadata": {},
   "outputs": [],
   "source": []
  }
 ],
 "metadata": {
  "kernelspec": {
   "display_name": "Python 3 (ipykernel)",
   "language": "python",
   "name": "python3"
  },
  "language_info": {
   "codemirror_mode": {
    "name": "ipython",
    "version": 3
   },
   "file_extension": ".py",
   "mimetype": "text/x-python",
   "name": "python",
   "nbconvert_exporter": "python",
   "pygments_lexer": "ipython3",
   "version": "3.11.3"
  }
 },
 "nbformat": 4,
 "nbformat_minor": 5
}
