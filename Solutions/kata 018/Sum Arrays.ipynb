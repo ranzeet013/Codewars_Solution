{
 "cells": [
  {
   "cell_type": "markdown",
   "id": "42627391",
   "metadata": {},
   "source": [
    "### DESCRIPTION:\n",
    "\n",
    "Write a function that takes an array of numbers and returns the sum of the numbers. The numbers can be negative or non-integer. If the array does not contain any numbers then you should return 0.\n",
    "\n",
    "#### Examples\n",
    "\n",
    "Input: [1, 5.2, 4, 0, -1]\n",
    "\n",
    "Output: 9.2\n",
    "\n",
    "Input: []\n",
    "\n",
    "Output: 0\n",
    "\n",
    "Input: [-2.398]\n",
    "\n",
    "Output: -2.398\n",
    "\n",
    "#### Assumptions\n",
    "\n",
    "You can assume that you are only given numbers.\n",
    "You cannot assume the size of the array.\n",
    "You can assume that you do get an array and if the array is empty, return 0.\n",
    "\n",
    "#### What We're Testing\n",
    "\n",
    "We're testing basic loops and math operations. This is for beginners who are just learning loops and math operations.\n",
    "Advanced users may find this extremely easy and can easily write this in one line."
   ]
  },
  {
   "cell_type": "code",
   "execution_count": 1,
   "id": "0261e3a8",
   "metadata": {},
   "outputs": [],
   "source": [
    "def sum_array(arr):\n",
    "    return sum(arr)"
   ]
  },
  {
   "cell_type": "code",
   "execution_count": 3,
   "id": "eaccbd37",
   "metadata": {},
   "outputs": [
    {
     "data": {
      "text/plain": [
       "36.2"
      ]
     },
     "execution_count": 3,
     "metadata": {},
     "output_type": "execute_result"
    }
   ],
   "source": [
    "sum_array([12, 8.2, 7, 0, -7, 7, 9])"
   ]
  },
  {
   "cell_type": "code",
   "execution_count": null,
   "id": "a6917332",
   "metadata": {},
   "outputs": [],
   "source": []
  }
 ],
 "metadata": {
  "kernelspec": {
   "display_name": "Python 3 (ipykernel)",
   "language": "python",
   "name": "python3"
  },
  "language_info": {
   "codemirror_mode": {
    "name": "ipython",
    "version": 3
   },
   "file_extension": ".py",
   "mimetype": "text/x-python",
   "name": "python",
   "nbconvert_exporter": "python",
   "pygments_lexer": "ipython3",
   "version": "3.11.3"
  }
 },
 "nbformat": 4,
 "nbformat_minor": 5
}
