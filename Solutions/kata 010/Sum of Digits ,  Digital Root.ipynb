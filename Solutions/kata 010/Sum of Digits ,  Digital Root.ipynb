{
 "cells": [
  {
   "cell_type": "markdown",
   "id": "8716e894",
   "metadata": {},
   "source": [
    "### DESCRIPTION:\n",
    "\n",
    "Digital root is the recursive sum of all the digits in a number.\n",
    "\n",
    "Given n, take the sum of the digits of n. If that value has more than one digit, continue reducing in this way until a single-digit number is produced. The input will be a non-negative integer.\n",
    "\n",
    "#### Examples\n",
    "    16  -->  1 + 6 = 7\n",
    "    \n",
    "   942  -->  9 + 4 + 2 = 15  -->  1 + 5 = 6\n",
    "   \n",
    "132189  -->  1 + 3 + 2 + 1 + 8 + 9 = 24  -->  2 + 4 = 6\n",
    "\n",
    "493193  -->  4 + 9 + 3 + 1 + 9 + 3 = 29  -->  2 + 9 = 11  -->  1 + 1 = 2"
   ]
  },
  {
   "cell_type": "code",
   "execution_count": 1,
   "id": "e732b767",
   "metadata": {},
   "outputs": [],
   "source": [
    "def digital_root(num):\n",
    "    n_str = str(num)\n",
    "    if len(n_str) == 1:\n",
    "        return int(n_str)\n",
    "    digit_sum = sum(int(digit) for digit in n_str)\n",
    "    \n",
    "    return digital_root(digit_sum)"
   ]
  },
  {
   "cell_type": "code",
   "execution_count": 2,
   "id": "fec9605c",
   "metadata": {},
   "outputs": [
    {
     "name": "stdout",
     "output_type": "stream",
     "text": [
      "6\n"
     ]
    }
   ],
   "source": [
    "print(digital_root(132189))"
   ]
  },
  {
   "cell_type": "code",
   "execution_count": null,
   "id": "988c43ff",
   "metadata": {},
   "outputs": [],
   "source": []
  }
 ],
 "metadata": {
  "kernelspec": {
   "display_name": "Python 3 (ipykernel)",
   "language": "python",
   "name": "python3"
  },
  "language_info": {
   "codemirror_mode": {
    "name": "ipython",
    "version": 3
   },
   "file_extension": ".py",
   "mimetype": "text/x-python",
   "name": "python",
   "nbconvert_exporter": "python",
   "pygments_lexer": "ipython3",
   "version": "3.11.3"
  }
 },
 "nbformat": 4,
 "nbformat_minor": 5
}
