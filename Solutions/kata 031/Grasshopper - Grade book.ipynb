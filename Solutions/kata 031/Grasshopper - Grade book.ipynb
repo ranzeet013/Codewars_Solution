{
 "cells": [
  {
   "cell_type": "markdown",
   "id": "fc82cf52",
   "metadata": {},
   "source": [
    "#### DESCRIPTION:\n",
    "\n",
    "Grade book\n",
    "Complete the function so that it finds the average of the three scores passed to it and returns the letter value associated with that grade.\n",
    "\n",
    "Numerical Score\tLetter Grade\n",
    "90 <= score <= 100\t'A'\n",
    "\n",
    "80 <= score < 90\t'B'\n",
    "\n",
    "70 <= score < 80\t'C'\n",
    "\n",
    "60 <= score < 70\t'D'\n",
    "\n",
    "0 <= score < 60\t'F'\n",
    "\n",
    "Tested values are all between 0 and 100. Theres is no need to check for negative values or values greater than 100."
   ]
  },
  {
   "cell_type": "code",
   "execution_count": 1,
   "id": "950cac9d",
   "metadata": {},
   "outputs": [],
   "source": [
    "def get_grade(s1, s2, s3):\n",
    "    average_score = (s1 + s2 + s3) / 3\n",
    "    \n",
    "    if 90 <= average_score <= 100:\n",
    "        return 'A'\n",
    "    elif 80 <= average_score < 90:\n",
    "        return 'B'\n",
    "    elif 70 <= average_score < 80:\n",
    "        return 'C'\n",
    "    elif 60 <= average_score < 70:\n",
    "        return 'D'\n",
    "    else:\n",
    "        return 'F'"
   ]
  },
  {
   "cell_type": "code",
   "execution_count": 2,
   "id": "9ad874e3",
   "metadata": {},
   "outputs": [
    {
     "name": "stdout",
     "output_type": "stream",
     "text": [
      "F\n"
     ]
    }
   ],
   "source": [
    "print(get_grade(20, 24, 30))"
   ]
  },
  {
   "cell_type": "code",
   "execution_count": null,
   "id": "26280dcb",
   "metadata": {},
   "outputs": [],
   "source": []
  }
 ],
 "metadata": {
  "kernelspec": {
   "display_name": "Python 3 (ipykernel)",
   "language": "python",
   "name": "python3"
  },
  "language_info": {
   "codemirror_mode": {
    "name": "ipython",
    "version": 3
   },
   "file_extension": ".py",
   "mimetype": "text/x-python",
   "name": "python",
   "nbconvert_exporter": "python",
   "pygments_lexer": "ipython3",
   "version": "3.11.3"
  }
 },
 "nbformat": 4,
 "nbformat_minor": 5
}
