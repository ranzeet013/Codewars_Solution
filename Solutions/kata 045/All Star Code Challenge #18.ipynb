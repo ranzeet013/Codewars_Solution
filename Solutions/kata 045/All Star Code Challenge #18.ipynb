{
 "cells": [
  {
   "cell_type": "markdown",
   "id": "aaa90912",
   "metadata": {},
   "source": [
    "#### DESCRIPTION:\n",
    "\n",
    "Create a function that accepts a string and a single character, and returns an integer of the count of occurrences the 2nd argument is found in the first one.\n",
    "\n",
    "If no occurrences can be found, a count of 0 should be returned.\n",
    "\n",
    "(\"Hello\", \"o\")  ==>  1\n",
    "\n",
    "(\"Hello\", \"l\")  ==>  2\n",
    "\n",
    "(\"\", \"z\")       ==>  0\n",
    "\n",
    "str_count(\"Hello\", 'o'); // returns 1\n",
    "\n",
    "str_count(\"Hello\", 'l'); // returns 2\n",
    "\n",
    "str_count(\"\", 'z'); // returns 0\n",
    "\n",
    "#### Notes\n",
    "\n",
    "The first argument can be an empty string\n",
    "In languages with no distinct character data type, the second argument will be a string of length 1"
   ]
  },
  {
   "cell_type": "code",
   "execution_count": 1,
   "id": "096064f3",
   "metadata": {},
   "outputs": [],
   "source": [
    "def str_count(strng, letter):\n",
    "    return (strng.count(letter))"
   ]
  },
  {
   "cell_type": "code",
   "execution_count": 2,
   "id": "7c7d2604",
   "metadata": {},
   "outputs": [
    {
     "name": "stdout",
     "output_type": "stream",
     "text": [
      "2\n"
     ]
    }
   ],
   "source": [
    "print(str_count(\"Hello\", 'l'))"
   ]
  },
  {
   "cell_type": "code",
   "execution_count": null,
   "id": "ad4e03b5",
   "metadata": {},
   "outputs": [],
   "source": []
  }
 ],
 "metadata": {
  "kernelspec": {
   "display_name": "Python 3 (ipykernel)",
   "language": "python",
   "name": "python3"
  },
  "language_info": {
   "codemirror_mode": {
    "name": "ipython",
    "version": 3
   },
   "file_extension": ".py",
   "mimetype": "text/x-python",
   "name": "python",
   "nbconvert_exporter": "python",
   "pygments_lexer": "ipython3",
   "version": "3.11.3"
  }
 },
 "nbformat": 4,
 "nbformat_minor": 5
}
