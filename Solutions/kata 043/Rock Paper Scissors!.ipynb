{
 "cells": [
  {
   "cell_type": "markdown",
   "id": "f912395e",
   "metadata": {},
   "source": [
    "#### DESCRIPTION:\n",
    "#### Rock Paper Scissors\n",
    "\n",
    "Let's play! You have to return which player won! In case of a draw return Draw!.\n",
    "\n",
    "#### Examples(Input1, Input2 --> Output):\n",
    "\n",
    "\"scissors\", \"paper\" --> \"Player 1 won!\"\n",
    "\n",
    "\"scissors\", \"rock\" --> \"Player 2 won!\"\n",
    "\n",
    "\"paper\", \"paper\" --> \"Draw!\""
   ]
  },
  {
   "cell_type": "code",
   "execution_count": 1,
   "id": "0100c2a7",
   "metadata": {},
   "outputs": [],
   "source": [
    "def rps(p1, p2):\n",
    "    hand = {'rock':0, 'paper':1, 'scissors':2}\n",
    "    results = ['Draw!', 'Player 1 won!', 'Player 2 won!']\n",
    "    return results[hand[p1] - hand[p2]]"
   ]
  },
  {
   "cell_type": "code",
   "execution_count": 2,
   "id": "e1d8cf2a",
   "metadata": {},
   "outputs": [
    {
     "name": "stdout",
     "output_type": "stream",
     "text": [
      "Player 2 won!\n",
      "Draw!\n"
     ]
    }
   ],
   "source": [
    "print(rps(\"scissors\", \"rock\"))  \n",
    "print(rps(\"paper\", \"paper\")) "
   ]
  },
  {
   "cell_type": "code",
   "execution_count": null,
   "id": "b4d982d8",
   "metadata": {},
   "outputs": [],
   "source": []
  }
 ],
 "metadata": {
  "kernelspec": {
   "display_name": "Python 3 (ipykernel)",
   "language": "python",
   "name": "python3"
  },
  "language_info": {
   "codemirror_mode": {
    "name": "ipython",
    "version": 3
   },
   "file_extension": ".py",
   "mimetype": "text/x-python",
   "name": "python",
   "nbconvert_exporter": "python",
   "pygments_lexer": "ipython3",
   "version": "3.11.3"
  }
 },
 "nbformat": 4,
 "nbformat_minor": 5
}
