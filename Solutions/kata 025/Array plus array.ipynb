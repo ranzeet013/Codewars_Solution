{
 "cells": [
  {
   "cell_type": "markdown",
   "id": "27f6a4ae",
   "metadata": {},
   "source": [
    "#### DESCRIPTION:\n",
    "\n",
    "I'm new to coding and now I want to get the sum of two arrays... Actually the sum of all their elements. I'll appreciate for your help.\n",
    "\n",
    "P.S. Each array includes only integer numbers. Output is a number too."
   ]
  },
  {
   "cell_type": "code",
   "execution_count": 4,
   "id": "6970412c",
   "metadata": {},
   "outputs": [
    {
     "name": "stdout",
     "output_type": "stream",
     "text": [
      "55\n"
     ]
    }
   ],
   "source": [
    "def add_array(array_1, array_2):\n",
    "    sum_1 = sum(array_1)\n",
    "    sum_2 = sum(array_2)\n",
    "    total_sum = sum_1 + sum_2\n",
    "    return total_sum\n",
    "\n",
    "array1 = [1, 3, 5, 7, 9]\n",
    "array2 = [2, 4, 6, 8, 10]\n",
    "\n",
    "print(add_array(array1, array2))"
   ]
  },
  {
   "cell_type": "code",
   "execution_count": null,
   "id": "f2e75313",
   "metadata": {},
   "outputs": [],
   "source": []
  }
 ],
 "metadata": {
  "kernelspec": {
   "display_name": "Python 3 (ipykernel)",
   "language": "python",
   "name": "python3"
  },
  "language_info": {
   "codemirror_mode": {
    "name": "ipython",
    "version": 3
   },
   "file_extension": ".py",
   "mimetype": "text/x-python",
   "name": "python",
   "nbconvert_exporter": "python",
   "pygments_lexer": "ipython3",
   "version": "3.11.3"
  }
 },
 "nbformat": 4,
 "nbformat_minor": 5
}
