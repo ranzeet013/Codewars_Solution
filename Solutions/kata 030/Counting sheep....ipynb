{
 "cells": [
  {
   "cell_type": "markdown",
   "id": "ae9d352f",
   "metadata": {},
   "source": [
    "#### DESCRIPTION:\n",
    "\n",
    "Consider an array/list of sheep where some sheep may be missing from their place. We need a function that counts the number of sheep present in the array (true means present).\n",
    "\n",
    "For example,\n",
    "\n",
    "[True,  True,  True,  False,\n",
    "\n",
    "  True,  True,  True,  True ,\n",
    "  \n",
    "  True,  False, True,  False,\n",
    "  \n",
    "  True,  False, False, True ,\n",
    "  \n",
    "  True,  True,  True,  True ,\n",
    "  \n",
    "  False, False, True,  True]\n",
    "  \n",
    "The correct answer would be 17.\n",
    "\n",
    "Hint: Don't forget to check for bad values like null/undefined"
   ]
  },
  {
   "cell_type": "code",
   "execution_count": 1,
   "id": "3f3bf2c0",
   "metadata": {},
   "outputs": [],
   "source": [
    "def count_sheeps(sheep):\n",
    "    count = 0\n",
    "    for sheep_present in sheep:\n",
    "        if sheep_present:\n",
    "            count += 1\n",
    "    return count"
   ]
  },
  {
   "cell_type": "code",
   "execution_count": null,
   "id": "651d7957",
   "metadata": {},
   "outputs": [],
   "source": []
  }
 ],
 "metadata": {
  "kernelspec": {
   "display_name": "Python 3 (ipykernel)",
   "language": "python",
   "name": "python3"
  },
  "language_info": {
   "codemirror_mode": {
    "name": "ipython",
    "version": 3
   },
   "file_extension": ".py",
   "mimetype": "text/x-python",
   "name": "python",
   "nbconvert_exporter": "python",
   "pygments_lexer": "ipython3",
   "version": "3.11.3"
  }
 },
 "nbformat": 4,
 "nbformat_minor": 5
}
