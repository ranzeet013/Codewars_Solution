{
 "cells": [
  {
   "cell_type": "markdown",
   "id": "85ef5bb4",
   "metadata": {},
   "source": [
    "#### DESCRIPTION:\n",
    "The function is not returning the correct values. Can you figure out why?\n",
    "\n",
    "#### Example (Input --> Output ):\n",
    "\n",
    "3 --> \"Earth\""
   ]
  },
  {
   "cell_type": "code",
   "execution_count": 1,
   "id": "53541dea",
   "metadata": {},
   "outputs": [],
   "source": [
    "def planet_name(number):\n",
    "    planet_names = {\n",
    "        1: \"Mercury\",\n",
    "        2: \"Venus\",\n",
    "        3: \"Earth\",\n",
    "        4: \"Mars\",\n",
    "        5: \"Jupiter\",\n",
    "        6: \"Saturn\",\n",
    "        7: \"Uranus\",\n",
    "        8: \"Neptune\",\n",
    "        9: \"Pluto\"  \n",
    "    }\n",
    "    \n",
    "    return planet_names.get(number, \"Unknown\")"
   ]
  },
  {
   "cell_type": "code",
   "execution_count": 2,
   "id": "6a82ee6d",
   "metadata": {},
   "outputs": [
    {
     "name": "stdout",
     "output_type": "stream",
     "text": [
      "Earth\n"
     ]
    }
   ],
   "source": [
    "print(planet_name(3))"
   ]
  },
  {
   "cell_type": "code",
   "execution_count": null,
   "id": "09500f77",
   "metadata": {},
   "outputs": [],
   "source": []
  }
 ],
 "metadata": {
  "kernelspec": {
   "display_name": "Python 3 (ipykernel)",
   "language": "python",
   "name": "python3"
  },
  "language_info": {
   "codemirror_mode": {
    "name": "ipython",
    "version": 3
   },
   "file_extension": ".py",
   "mimetype": "text/x-python",
   "name": "python",
   "nbconvert_exporter": "python",
   "pygments_lexer": "ipython3",
   "version": "3.11.3"
  }
 },
 "nbformat": 4,
 "nbformat_minor": 5
}
