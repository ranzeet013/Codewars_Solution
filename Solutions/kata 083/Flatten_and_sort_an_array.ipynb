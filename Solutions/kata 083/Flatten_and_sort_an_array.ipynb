{
  "nbformat": 4,
  "nbformat_minor": 0,
  "metadata": {
    "colab": {
      "provenance": []
    },
    "kernelspec": {
      "name": "python3",
      "display_name": "Python 3"
    },
    "language_info": {
      "name": "python"
    }
  },
  "cells": [
    {
      "cell_type": "markdown",
      "source": [],
      "metadata": {
        "id": "5arhaB1tW9Gy"
      }
    },
    {
      "cell_type": "markdown",
      "source": [
        "\n",
        "DESCRIPTION:\n",
        "\n",
        "Challenge:\n",
        "\n",
        "Given a two-dimensional array of integers, return the flattened version of the array with all the integers in the sorted (ascending) order.\n",
        "\n",
        "Example:\n",
        "\n",
        "Given [[3, 2, 1], [4, 6, 5], [], [9, 7, 8]], your function should return [1, 2, 3, 4, 5, 6, 7, 8, 9]."
      ],
      "metadata": {
        "id": "iD_TXo_3W9Jy"
      }
    },
    {
      "cell_type": "code",
      "source": [
        "def flatten_and_sort(array):\n",
        "    return sorted([j for i in array for j in i])"
      ],
      "metadata": {
        "id": "x6Pow3ruXHYv"
      },
      "execution_count": 1,
      "outputs": []
    },
    {
      "cell_type": "code",
      "source": [],
      "metadata": {
        "id": "k55JS4ejXUF4"
      },
      "execution_count": null,
      "outputs": []
    }
  ]
}