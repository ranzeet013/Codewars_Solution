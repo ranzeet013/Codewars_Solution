{
 "cells": [
  {
   "cell_type": "markdown",
   "id": "88367d1d",
   "metadata": {},
   "source": [
    "#### DESCRIPTION:\n",
    "\n",
    "This time no story, no theory. The examples below show you how to write function accum:\n",
    "\n",
    "Examples:\n",
    "\n",
    "accum(\"abcd\") -> \"A-Bb-Ccc-Dddd\"\n",
    "\n",
    "accum(\"RqaEzty\") -> \"R-Qq-Aaa-Eeee-Zzzzz-Tttttt-Yyyyyyy\"\n",
    "\n",
    "accum(\"cwAt\") -> \"C-Ww-Aaa-Tttt\"\n",
    "\n",
    "The parameter of accum is a string which includes only letters from a..z and A..Z."
   ]
  },
  {
   "cell_type": "code",
   "execution_count": 1,
   "id": "6541cd58",
   "metadata": {},
   "outputs": [],
   "source": [
    "def accum(st):\n",
    "    result = \"\"\n",
    "    for i, c in enumerate(st):\n",
    "        result += c.upper() + c.lower() * i\n",
    "        if i < len(st) - 1:\n",
    "            result += \"-\"\n",
    "    return result"
   ]
  },
  {
   "cell_type": "code",
   "execution_count": 2,
   "id": "82166399",
   "metadata": {},
   "outputs": [
    {
     "name": "stdout",
     "output_type": "stream",
     "text": [
      "R-Qq-Aaa-Eeee-Zzzzz-Tttttt-Yyyyyyy-Hhhhhhhh-Ggggggggg-Tttttttttt-Bbbbbbbbbbb-Vvvvvvvvvvvv-Sssssssssssss\n"
     ]
    }
   ],
   "source": [
    "print(accum(\"RqaEztyhgTbvS\"))"
   ]
  },
  {
   "cell_type": "code",
   "execution_count": null,
   "id": "700b8d3b",
   "metadata": {},
   "outputs": [],
   "source": []
  }
 ],
 "metadata": {
  "kernelspec": {
   "display_name": "Python 3 (ipykernel)",
   "language": "python",
   "name": "python3"
  },
  "language_info": {
   "codemirror_mode": {
    "name": "ipython",
    "version": 3
   },
   "file_extension": ".py",
   "mimetype": "text/x-python",
   "name": "python",
   "nbconvert_exporter": "python",
   "pygments_lexer": "ipython3",
   "version": "3.11.3"
  }
 },
 "nbformat": 4,
 "nbformat_minor": 5
}
