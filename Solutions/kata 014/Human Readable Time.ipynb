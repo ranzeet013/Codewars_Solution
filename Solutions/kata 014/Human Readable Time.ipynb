{
 "cells": [
  {
   "cell_type": "markdown",
   "id": "98e379c5",
   "metadata": {},
   "source": [
    "#### DESCRIPTION:\n",
    "\n",
    "Write a function, which takes a non-negative integer (seconds) as input and returns the time in a human-readable format (HH:MM:SS)\n",
    "\n",
    "HH = hours, padded to 2 digits, range: 00 - 99\n",
    "\n",
    "MM = minutes, padded to 2 digits, range: 00 - 59\n",
    "\n",
    "SS = seconds, padded to 2 digits, range: 00 - 59\n",
    "\n",
    "The maximum time never exceeds 359999 (99:59:59)\n",
    "\n",
    "You can find some examples in the test fixtures."
   ]
  },
  {
   "cell_type": "code",
   "execution_count": 1,
   "id": "dd29afdf",
   "metadata": {},
   "outputs": [],
   "source": [
    "def make_readable_time(seconds):\n",
    "    hours = seconds // 3600\n",
    "    minutes = (seconds % 3600) // 60\n",
    "    seconds = seconds % 60\n",
    "\n",
    "    return \"{:02d}:{:02d}:{:02d}\".format(hours, minutes, seconds)"
   ]
  },
  {
   "cell_type": "code",
   "execution_count": 2,
   "id": "1c66f7c5",
   "metadata": {},
   "outputs": [
    {
     "data": {
      "text/plain": [
       "'2596:45:46'"
      ]
     },
     "execution_count": 2,
     "metadata": {},
     "output_type": "execute_result"
    }
   ],
   "source": [
    "make_readable_time(9348346)"
   ]
  },
  {
   "cell_type": "code",
   "execution_count": null,
   "id": "afad6041",
   "metadata": {},
   "outputs": [],
   "source": []
  }
 ],
 "metadata": {
  "kernelspec": {
   "display_name": "Python 3 (ipykernel)",
   "language": "python",
   "name": "python3"
  },
  "language_info": {
   "codemirror_mode": {
    "name": "ipython",
    "version": 3
   },
   "file_extension": ".py",
   "mimetype": "text/x-python",
   "name": "python",
   "nbconvert_exporter": "python",
   "pygments_lexer": "ipython3",
   "version": "3.11.3"
  }
 },
 "nbformat": 4,
 "nbformat_minor": 5
}
