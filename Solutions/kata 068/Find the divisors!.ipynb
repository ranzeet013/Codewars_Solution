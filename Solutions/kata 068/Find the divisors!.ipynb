{
 "cells": [
  {
   "cell_type": "markdown",
   "id": "e0a586dd",
   "metadata": {},
   "source": [
    "#### DESCRIPTION:\n",
    "\n",
    "Create a function named divisors/Divisors that takes an integer n > 1 and returns an array with all of the integer's divisors(except for 1 and the number itself), from smallest to largest. If the number is prime return the string '(integer) is prime' (null in C#, empty table in COBOL) (use Either String a in Haskell and Result<Vec<u32>, String> in Rust).\n",
    "\n",
    "Example:\n",
    "    \n",
    "divisors(12); #should return [2,3,4,6]\n",
    "    \n",
    "divisors(25); #should return [5]\n",
    "    \n",
    "divisors(13); #should return \"13 is prime\""
   ]
  },
  {
   "cell_type": "code",
   "execution_count": 4,
   "id": "6848e691",
   "metadata": {},
   "outputs": [],
   "source": [
    "def divisors(integer):\n",
    "  return [n for n in range(2, integer) if integer % n == 0] or '{} is prime'.format(integer)"
   ]
  },
  {
   "cell_type": "code",
   "execution_count": 5,
   "id": "acacefa2",
   "metadata": {},
   "outputs": [
    {
     "name": "stdout",
     "output_type": "stream",
     "text": [
      "[5]\n"
     ]
    }
   ],
   "source": [
    "print(divisors(25))"
   ]
  },
  {
   "cell_type": "code",
   "execution_count": null,
   "id": "c7debf2b",
   "metadata": {},
   "outputs": [],
   "source": []
  }
 ],
 "metadata": {
  "kernelspec": {
   "display_name": "Python 3 (ipykernel)",
   "language": "python",
   "name": "python3"
  },
  "language_info": {
   "codemirror_mode": {
    "name": "ipython",
    "version": 3
   },
   "file_extension": ".py",
   "mimetype": "text/x-python",
   "name": "python",
   "nbconvert_exporter": "python",
   "pygments_lexer": "ipython3",
   "version": "3.11.3"
  }
 },
 "nbformat": 4,
 "nbformat_minor": 5
}
