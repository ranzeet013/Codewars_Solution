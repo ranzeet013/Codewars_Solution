{
 "cells": [
  {
   "cell_type": "code",
   "execution_count": 2,
   "id": "79fc0ea2",
   "metadata": {},
   "outputs": [
    {
     "name": "stdout",
     "output_type": "stream",
     "text": [
      "True\n",
      "False\n"
     ]
    }
   ],
   "source": [
    "def is_palindrome(number):\n",
    "    number_string = str(number)                            #convert number to string\n",
    "    return number_string == number_string[::-1]            #Checking if the string is same from reverse\n",
    "print(is_palindrome(121))\n",
    "print(is_palindrome(1234))"
   ]
  },
  {
   "cell_type": "code",
   "execution_count": null,
   "id": "af1eb2fc",
   "metadata": {},
   "outputs": [],
   "source": []
  }
 ],
 "metadata": {
  "kernelspec": {
   "display_name": "Python 3 (ipykernel)",
   "language": "python",
   "name": "python3"
  },
  "language_info": {
   "codemirror_mode": {
    "name": "ipython",
    "version": 3
   },
   "file_extension": ".py",
   "mimetype": "text/x-python",
   "name": "python",
   "nbconvert_exporter": "python",
   "pygments_lexer": "ipython3",
   "version": "3.11.3"
  }
 },
 "nbformat": 4,
 "nbformat_minor": 5
}
