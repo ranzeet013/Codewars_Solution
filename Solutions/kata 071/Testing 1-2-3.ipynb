{
 "cells": [
  {
   "cell_type": "markdown",
   "id": "b807d88b",
   "metadata": {},
   "source": [
    "#### DESCRIPTION:\n",
    "Your team is writing a fancy new text editor and you've been tasked with implementing the line numbering.\n",
    "\n",
    "Write a function which takes a list of strings and returns each line prepended by the correct number.\n",
    "\n",
    "The numbering starts at 1. The format is n: string. Notice the colon and space in between.\n",
    "\n",
    "#### Examples: (Input --> Output)\n",
    "\n",
    "[] --> []\n",
    "\n",
    "[\"a\", \"b\", \"c\"] --> [\"1: a\", \"2: b\", \"3: c\"]"
   ]
  },
  {
   "cell_type": "code",
   "execution_count": 1,
   "id": "ef9b98ff",
   "metadata": {},
   "outputs": [],
   "source": [
    "def number(lines):\n",
    "    return [f\"{counter}: {line}\" for counter, line in enumerate(lines, start=1)]"
   ]
  },
  {
   "cell_type": "code",
   "execution_count": 2,
   "id": "8ce02d6e",
   "metadata": {},
   "outputs": [
    {
     "name": "stdout",
     "output_type": "stream",
     "text": [
      "['1: a', '2: b', '3: c']\n"
     ]
    }
   ],
   "source": [
    "print(number([\"a\", \"b\", \"c\"]))"
   ]
  },
  {
   "cell_type": "code",
   "execution_count": null,
   "id": "cc87cb5c",
   "metadata": {},
   "outputs": [],
   "source": []
  }
 ],
 "metadata": {
  "kernelspec": {
   "display_name": "Python 3 (ipykernel)",
   "language": "python",
   "name": "python3"
  },
  "language_info": {
   "codemirror_mode": {
    "name": "ipython",
    "version": 3
   },
   "file_extension": ".py",
   "mimetype": "text/x-python",
   "name": "python",
   "nbconvert_exporter": "python",
   "pygments_lexer": "ipython3",
   "version": "3.11.3"
  }
 },
 "nbformat": 4,
 "nbformat_minor": 5
}
