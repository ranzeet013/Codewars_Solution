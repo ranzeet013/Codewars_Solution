{
 "cells": [
  {
   "cell_type": "markdown",
   "id": "e99d120d",
   "metadata": {},
   "source": [
    "#### DESCRIPTION:\n",
    "\n",
    "Your task is to make two functions ( max and min, or maximum and minimum, etc., depending on the language ) that receive a list of integers as input, and return the largest and lowest number in that list, respectively.\n",
    "\n",
    "#### Examples (Input -> Output)\n",
    "\n",
    "* [4,6,2,1,9,63,-134,566]         -> max = 566, min = -134\n",
    "\n",
    "* [-52, 56, 30, 29, -54, 0, -110] -> min = -110, max = 56\n",
    "\n",
    "* [42, 54, 65, 87, 0]             -> min = 0, max = 87\n",
    "\n",
    "\n",
    "* [5]                             -> min = 5, max = 5\n",
    "\n",
    "#### Notes\n",
    "\n",
    "You may consider that there will not be any empty arrays/vectors."
   ]
  },
  {
   "cell_type": "code",
   "execution_count": 1,
   "id": "09e7269d",
   "metadata": {},
   "outputs": [],
   "source": [
    "def minimum(arr):\n",
    "    return min(arr)\n",
    "\n",
    "def maximum(arr):\n",
    "    return max(arr)"
   ]
  },
  {
   "cell_type": "code",
   "execution_count": 2,
   "id": "254a18bb",
   "metadata": {},
   "outputs": [
    {
     "name": "stdout",
     "output_type": "stream",
     "text": [
      "-134\n"
     ]
    }
   ],
   "source": [
    "print(minimum([4,6,2,1,9,63,-134,566]))"
   ]
  },
  {
   "cell_type": "code",
   "execution_count": 3,
   "id": "f54ffa6f",
   "metadata": {},
   "outputs": [
    {
     "name": "stdout",
     "output_type": "stream",
     "text": [
      "566\n"
     ]
    }
   ],
   "source": [
    "print(maximum([4,6,2,1,9,63,-134,566]))"
   ]
  },
  {
   "cell_type": "code",
   "execution_count": null,
   "id": "7ace9cf7",
   "metadata": {},
   "outputs": [],
   "source": []
  }
 ],
 "metadata": {
  "kernelspec": {
   "display_name": "Python 3 (ipykernel)",
   "language": "python",
   "name": "python3"
  },
  "language_info": {
   "codemirror_mode": {
    "name": "ipython",
    "version": 3
   },
   "file_extension": ".py",
   "mimetype": "text/x-python",
   "name": "python",
   "nbconvert_exporter": "python",
   "pygments_lexer": "ipython3",
   "version": "3.11.3"
  }
 },
 "nbformat": 4,
 "nbformat_minor": 5
}
