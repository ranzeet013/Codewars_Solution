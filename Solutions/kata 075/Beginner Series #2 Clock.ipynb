{
 "cells": [
  {
   "cell_type": "markdown",
   "id": "ff4462b7",
   "metadata": {},
   "source": [
    "#### DESCRIPTION:\n",
    "\n",
    "Clock shows h hours, m minutes and s seconds after midnight.\n",
    "\n",
    "Your task is to write a function which returns the time since midnight in milliseconds.\n",
    "\n",
    "#### Example:\n",
    "\n",
    "h = 0\n",
    "\n",
    "m = 1\n",
    "\n",
    "s = 1\n",
    "\n",
    "result = 61000\n",
    "\n",
    "Input constraints:\n",
    "\n",
    "0 <= h <= 23\n",
    "\n",
    "0 <= m <= 59\n",
    "\n",
    "0 <= s <= 59"
   ]
  },
  {
   "cell_type": "code",
   "execution_count": 1,
   "id": "e5240adf",
   "metadata": {},
   "outputs": [],
   "source": [
    "def past(h, m, s):\n",
    "    return 3600000 * h + 60000 * m + 1000 * s"
   ]
  },
  {
   "cell_type": "code",
   "execution_count": null,
   "id": "177db80f",
   "metadata": {},
   "outputs": [],
   "source": []
  }
 ],
 "metadata": {
  "kernelspec": {
   "display_name": "Python 3 (ipykernel)",
   "language": "python",
   "name": "python3"
  },
  "language_info": {
   "codemirror_mode": {
    "name": "ipython",
    "version": 3
   },
   "file_extension": ".py",
   "mimetype": "text/x-python",
   "name": "python",
   "nbconvert_exporter": "python",
   "pygments_lexer": "ipython3",
   "version": "3.11.3"
  }
 },
 "nbformat": 4,
 "nbformat_minor": 5
}
