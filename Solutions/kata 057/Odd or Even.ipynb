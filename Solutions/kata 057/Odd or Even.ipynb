{
 "cells": [
  {
   "cell_type": "markdown",
   "id": "0eec871f",
   "metadata": {},
   "source": [
    "#### DESCRIPTION:\n",
    "\n",
    "#### Task:\n",
    "\n",
    "Given a list of integers, determine whether the sum of its elements is odd or even.\n",
    "\n",
    "Give your answer as a string matching \"odd\" or \"even\".\n",
    "\n",
    "If the input array is empty consider it as: [0] (array with a zero).\n",
    "\n",
    "#### Examples:\n",
    "\n",
    "Input: [0]\n",
    "Output: \"even\"\n",
    "\n",
    "Input: [0, 1, 4]\n",
    "Output: \"odd\"\n",
    "\n",
    "Input: [0, -1, -5]\n",
    "Output: \"even\"\n",
    "\n",
    "Have fun!"
   ]
  },
  {
   "cell_type": "code",
   "execution_count": 1,
   "id": "946da3a4",
   "metadata": {},
   "outputs": [],
   "source": [
    "def odd_or_even(arr):\n",
    "    if not arr:\n",
    "        return \"even\"\n",
    "\n",
    "    array_sum = sum(arr)\n",
    "    \n",
    "    if array_sum % 2 == 0:\n",
    "        return \"even\"\n",
    "    else:\n",
    "        return \"odd\""
   ]
  },
  {
   "cell_type": "code",
   "execution_count": 3,
   "id": "a18d9d27",
   "metadata": {},
   "outputs": [
    {
     "name": "stdout",
     "output_type": "stream",
     "text": [
      "even\n"
     ]
    }
   ],
   "source": [
    "print(odd_or_even([0, 6, -6, -8, 3, -3]))"
   ]
  },
  {
   "cell_type": "code",
   "execution_count": null,
   "id": "f1b74782",
   "metadata": {},
   "outputs": [],
   "source": []
  }
 ],
 "metadata": {
  "kernelspec": {
   "display_name": "Python 3 (ipykernel)",
   "language": "python",
   "name": "python3"
  },
  "language_info": {
   "codemirror_mode": {
    "name": "ipython",
    "version": 3
   },
   "file_extension": ".py",
   "mimetype": "text/x-python",
   "name": "python",
   "nbconvert_exporter": "python",
   "pygments_lexer": "ipython3",
   "version": "3.11.3"
  }
 },
 "nbformat": 4,
 "nbformat_minor": 5
}
