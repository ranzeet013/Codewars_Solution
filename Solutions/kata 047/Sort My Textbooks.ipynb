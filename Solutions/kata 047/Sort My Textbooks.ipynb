{
 "cells": [
  {
   "cell_type": "markdown",
   "id": "66518b22",
   "metadata": {},
   "source": [
    "#### DESCRIPTION:\n",
    "\n",
    "HELP! Jason can't find his textbook! It is two days before the test date, and Jason's textbooks are all out of order! Help him sort a list (ArrayList in java) full of textbooks by subject, so he can study before the test.\n",
    "\n",
    "The sorting should NOT be case sensitive"
   ]
  },
  {
   "cell_type": "code",
   "execution_count": 2,
   "id": "0f1db58f",
   "metadata": {},
   "outputs": [],
   "source": [
    "def sorter(textbooks):\n",
    "    textbooks.sort(key=str.lower)"
   ]
  },
  {
   "cell_type": "code",
   "execution_count": 4,
   "id": "8ad8bc41",
   "metadata": {},
   "outputs": [
    {
     "name": "stdout",
     "output_type": "stream",
     "text": [
      "c programming\n",
      "dotNet\n",
      "python\n",
      "technical writing\n"
     ]
    }
   ],
   "source": [
    "textbooks = [\"c programming\", \"python\", \"dotNet\", \"technical writing\"]\n",
    "sorter(textbooks)\n",
    "for textbook in textbooks:\n",
    "    print(textbook)"
   ]
  },
  {
   "cell_type": "code",
   "execution_count": null,
   "id": "2e93b126",
   "metadata": {},
   "outputs": [],
   "source": []
  }
 ],
 "metadata": {
  "kernelspec": {
   "display_name": "Python 3 (ipykernel)",
   "language": "python",
   "name": "python3"
  },
  "language_info": {
   "codemirror_mode": {
    "name": "ipython",
    "version": 3
   },
   "file_extension": ".py",
   "mimetype": "text/x-python",
   "name": "python",
   "nbconvert_exporter": "python",
   "pygments_lexer": "ipython3",
   "version": "3.11.3"
  }
 },
 "nbformat": 4,
 "nbformat_minor": 5
}
