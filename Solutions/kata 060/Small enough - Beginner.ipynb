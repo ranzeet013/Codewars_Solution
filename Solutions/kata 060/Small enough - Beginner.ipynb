{
 "cells": [
  {
   "cell_type": "markdown",
   "id": "f56ad640",
   "metadata": {},
   "source": [
    "#### DESCRIPTION:\n",
    "\n",
    "You will be given an array and a limit value. You must check that all values in the array are below or equal to the limit value. If they are, return true. Else, return false.\n",
    "\n",
    "You can assume all values in the array are numbers."
   ]
  },
  {
   "cell_type": "code",
   "execution_count": 1,
   "id": "47de857a",
   "metadata": {},
   "outputs": [],
   "source": [
    "def small_enough(array, limit):\n",
    "    for value in array:\n",
    "        if value > limit:\n",
    "            return False\n",
    "    return True"
   ]
  },
  {
   "cell_type": "code",
   "execution_count": 3,
   "id": "a7404010",
   "metadata": {},
   "outputs": [
    {
     "name": "stdout",
     "output_type": "stream",
     "text": [
      "True\n"
     ]
    }
   ],
   "source": [
    "array = [10, 15, 20, 25]\n",
    "limit = 30\n",
    "print(small_enough(array, limit))"
   ]
  },
  {
   "cell_type": "code",
   "execution_count": null,
   "id": "3148b84c",
   "metadata": {},
   "outputs": [],
   "source": []
  }
 ],
 "metadata": {
  "kernelspec": {
   "display_name": "Python 3 (ipykernel)",
   "language": "python",
   "name": "python3"
  },
  "language_info": {
   "codemirror_mode": {
    "name": "ipython",
    "version": 3
   },
   "file_extension": ".py",
   "mimetype": "text/x-python",
   "name": "python",
   "nbconvert_exporter": "python",
   "pygments_lexer": "ipython3",
   "version": "3.11.3"
  }
 },
 "nbformat": 4,
 "nbformat_minor": 5
}
