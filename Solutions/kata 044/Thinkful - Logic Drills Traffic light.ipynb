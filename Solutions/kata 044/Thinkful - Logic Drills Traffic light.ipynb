{
 "cells": [
  {
   "cell_type": "markdown",
   "id": "0329b063",
   "metadata": {},
   "source": [
    "#### DESCRIPTION:\n",
    "\n",
    "You're writing code to control your town's traffic lights. You need a function to handle each change from green, to yellow, to red, and then to green again.\n",
    "\n",
    "Complete the function that takes a string as an argument representing the current state of the light and returns a string representing the state the light should change to.\n",
    "\n",
    "For example, when the input is green, output should be yellow."
   ]
  },
  {
   "cell_type": "code",
   "execution_count": 1,
   "id": "949ea22b",
   "metadata": {},
   "outputs": [],
   "source": [
    "def update_light(current):\n",
    "    if current == \"green\":\n",
    "        return \"yellow\"\n",
    "    elif current == \"yellow\":\n",
    "        return \"red\"\n",
    "    elif current == \"red\":\n",
    "        return \"green\"\n",
    "    else:\n",
    "        return \"This is not a traffic light color.\""
   ]
  },
  {
   "cell_type": "code",
   "execution_count": 2,
   "id": "20cee82b",
   "metadata": {},
   "outputs": [
    {
     "name": "stdout",
     "output_type": "stream",
     "text": [
      "Current state: green\n",
      "Next state: yellow\n"
     ]
    }
   ],
   "source": [
    "current_state = \"green\"\n",
    "next_state = update_light(current_state)\n",
    "print(\"Current state:\", current_state)\n",
    "print(\"Next state:\", next_state)"
   ]
  },
  {
   "cell_type": "code",
   "execution_count": null,
   "id": "84ef8d2e",
   "metadata": {},
   "outputs": [],
   "source": []
  }
 ],
 "metadata": {
  "kernelspec": {
   "display_name": "Python 3 (ipykernel)",
   "language": "python",
   "name": "python3"
  },
  "language_info": {
   "codemirror_mode": {
    "name": "ipython",
    "version": 3
   },
   "file_extension": ".py",
   "mimetype": "text/x-python",
   "name": "python",
   "nbconvert_exporter": "python",
   "pygments_lexer": "ipython3",
   "version": "3.11.3"
  }
 },
 "nbformat": 4,
 "nbformat_minor": 5
}
