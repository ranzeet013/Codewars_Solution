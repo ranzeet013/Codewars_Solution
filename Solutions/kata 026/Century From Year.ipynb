{
 "cells": [
  {
   "cell_type": "markdown",
   "id": "f29d4a48",
   "metadata": {},
   "source": [
    "#### DESCRIPTION:\n",
    "    \n",
    "#### Introduction\n",
    "\n",
    "The first century spans from the year 1 up to and including the year 100, the second century - from the year 101 up to and including the year 200, etc.\n",
    "\n",
    "#### Task\n",
    "\n",
    "Given a year, return the century it is in.\n",
    "\n",
    "Examples\n",
    "\n",
    "1705 --> 18\n",
    "\n",
    "1900 --> 19\n",
    "\n",
    "1601 --> 17\n",
    "\n",
    "2000 --> 20\n",
    "\n",
    "2742 --> 28"
   ]
  },
  {
   "cell_type": "code",
   "execution_count": 1,
   "id": "fca272a0",
   "metadata": {},
   "outputs": [],
   "source": [
    "import math\n",
    "\n",
    "def century(years):\n",
    "    century = math.ceil(years / 100)\n",
    "    return century"
   ]
  },
  {
   "cell_type": "code",
   "execution_count": 2,
   "id": "c5231697",
   "metadata": {},
   "outputs": [
    {
     "data": {
      "text/plain": [
       "21"
      ]
     },
     "execution_count": 2,
     "metadata": {},
     "output_type": "execute_result"
    }
   ],
   "source": [
    "century(2024)"
   ]
  },
  {
   "cell_type": "code",
   "execution_count": null,
   "id": "3722746a",
   "metadata": {},
   "outputs": [],
   "source": []
  }
 ],
 "metadata": {
  "kernelspec": {
   "display_name": "Python 3 (ipykernel)",
   "language": "python",
   "name": "python3"
  },
  "language_info": {
   "codemirror_mode": {
    "name": "ipython",
    "version": 3
   },
   "file_extension": ".py",
   "mimetype": "text/x-python",
   "name": "python",
   "nbconvert_exporter": "python",
   "pygments_lexer": "ipython3",
   "version": "3.11.3"
  }
 },
 "nbformat": 4,
 "nbformat_minor": 5
}
