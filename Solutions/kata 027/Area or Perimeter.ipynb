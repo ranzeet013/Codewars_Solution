{
 "cells": [
  {
   "cell_type": "markdown",
   "id": "af623cc3",
   "metadata": {},
   "source": [
    "#### DESCRIPTION:\n",
    "\n",
    "You are given the length and width of a 4-sided polygon. The polygon can either be a rectangle or a square.\n",
    "If it is a square, return its area. If it is a rectangle, return its perimeter.\n",
    "\n",
    "Example(Input1, Input2 --> Output):\n",
    "\n",
    "6, 10 --> 32\n",
    "\n",
    "3, 3 --> 9\n",
    "\n",
    "Note: for the purposes of this kata you will assume that it is a square if its length and width are equal, otherwise it is a rectangle."
   ]
  },
  {
   "cell_type": "code",
   "execution_count": 1,
   "id": "e3cc1172",
   "metadata": {},
   "outputs": [],
   "source": [
    "def area_or_perimeter(l, w):\n",
    "    return l * w if l == w else (l + w) * 2"
   ]
  },
  {
   "cell_type": "code",
   "execution_count": 3,
   "id": "10dae84d",
   "metadata": {},
   "outputs": [
    {
     "data": {
      "text/plain": [
       "270"
      ]
     },
     "execution_count": 3,
     "metadata": {},
     "output_type": "execute_result"
    }
   ],
   "source": [
    "area_or_perimeter(112, 23)"
   ]
  },
  {
   "cell_type": "code",
   "execution_count": null,
   "id": "510b49e2",
   "metadata": {},
   "outputs": [],
   "source": []
  }
 ],
 "metadata": {
  "kernelspec": {
   "display_name": "Python 3 (ipykernel)",
   "language": "python",
   "name": "python3"
  },
  "language_info": {
   "codemirror_mode": {
    "name": "ipython",
    "version": 3
   },
   "file_extension": ".py",
   "mimetype": "text/x-python",
   "name": "python",
   "nbconvert_exporter": "python",
   "pygments_lexer": "ipython3",
   "version": "3.11.3"
  }
 },
 "nbformat": 4,
 "nbformat_minor": 5
}
