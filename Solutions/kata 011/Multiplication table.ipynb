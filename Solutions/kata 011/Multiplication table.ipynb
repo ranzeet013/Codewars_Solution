{
 "cells": [
  {
   "cell_type": "markdown",
   "id": "2a5da938",
   "metadata": {},
   "source": [
    "#### DESCRIPTION:\n",
    "Your task, is to create N×N multiplication table, of size provided in parameter.\n",
    "\n",
    "For example, when given size is 3:\n",
    "\n",
    "1 2 3\n",
    "\n",
    "2 4 6\n",
    "\n",
    "3 6 9\n",
    "\n",
    "For the given example, the return value should be:\n",
    "\n",
    "[[1,2,3],[2,4,6],[3,6,9]]"
   ]
  },
  {
   "cell_type": "code",
   "execution_count": 1,
   "id": "4d936974",
   "metadata": {},
   "outputs": [],
   "source": [
    "def multiplication_table(num):\n",
    "    return [[i * j for j in range(1, num + 1)] for i in range(1, num + 1)]"
   ]
  },
  {
   "cell_type": "code",
   "execution_count": 2,
   "id": "edd29d60",
   "metadata": {},
   "outputs": [
    {
     "name": "stdout",
     "output_type": "stream",
     "text": [
      "[[1, 2, 3, 4], [2, 4, 6, 8], [3, 6, 9, 12], [4, 8, 12, 16]]\n"
     ]
    }
   ],
   "source": [
    "print(multiplication_table(4))"
   ]
  },
  {
   "cell_type": "code",
   "execution_count": null,
   "id": "45c6a62e",
   "metadata": {},
   "outputs": [],
   "source": []
  }
 ],
 "metadata": {
  "kernelspec": {
   "display_name": "Python 3 (ipykernel)",
   "language": "python",
   "name": "python3"
  },
  "language_info": {
   "codemirror_mode": {
    "name": "ipython",
    "version": 3
   },
   "file_extension": ".py",
   "mimetype": "text/x-python",
   "name": "python",
   "nbconvert_exporter": "python",
   "pygments_lexer": "ipython3",
   "version": "3.11.3"
  }
 },
 "nbformat": 4,
 "nbformat_minor": 5
}
