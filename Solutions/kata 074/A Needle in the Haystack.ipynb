{
 "cells": [
  {
   "cell_type": "markdown",
   "id": "e61885fa",
   "metadata": {},
   "source": [
    "Can you find the needle in the haystack?\n",
    "\n",
    "Write a function findNeedle() that takes an array full of junk but containing one \"needle\"\n",
    "\n",
    "After your function finds the needle it should return a message (as a string) that says:\n",
    "\n",
    "\"found the needle at position \" plus the index it found the needle, so:\n",
    "\n",
    "Example(Input --> Output)\n",
    "\n",
    "[\"hay\", \"junk\", \"hay\", \"hay\", \"moreJunk\", \"needle\", \"randomJunk\"] --> \"found the needle at position 5\" "
   ]
  },
  {
   "cell_type": "code",
   "execution_count": 1,
   "id": "1e61f164",
   "metadata": {},
   "outputs": [],
   "source": [
    "def find_needle(haystack):\n",
    "    return f'found the needle at position {haystack.index(\"needle\")}'"
   ]
  },
  {
   "cell_type": "code",
   "execution_count": null,
   "id": "a6125768",
   "metadata": {},
   "outputs": [],
   "source": []
  }
 ],
 "metadata": {
  "kernelspec": {
   "display_name": "Python 3 (ipykernel)",
   "language": "python",
   "name": "python3"
  },
  "language_info": {
   "codemirror_mode": {
    "name": "ipython",
    "version": 3
   },
   "file_extension": ".py",
   "mimetype": "text/x-python",
   "name": "python",
   "nbconvert_exporter": "python",
   "pygments_lexer": "ipython3",
   "version": "3.11.3"
  }
 },
 "nbformat": 4,
 "nbformat_minor": 5
}
