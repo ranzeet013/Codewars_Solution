{
 "cells": [
  {
   "cell_type": "markdown",
   "id": "32e2a2b7",
   "metadata": {},
   "source": [
    "#### Kata Task\n",
    "I have a cat and a dog.\n",
    "\n",
    "I got them at the same time as kitten/puppy. That was humanYears years ago.\n",
    "\n",
    "Return their respective ages now as [humanYears,catYears,dogYears]\n",
    "\n",
    "#### NOTES:\n",
    "\n",
    "humanYears >= 1\n",
    "humanYears are whole numbers only\n",
    "#### Cat Years\n",
    "15 cat years for first year\n",
    "+9 cat years for second year\n",
    "+4 cat years for each year after that\n",
    "#### Dog Years\n",
    "15 dog years for first year\n",
    "+9 dog years for second year\n",
    "+5 dog years for each year after that"
   ]
  },
  {
   "cell_type": "code",
   "execution_count": 1,
   "id": "913bb6e3",
   "metadata": {},
   "outputs": [],
   "source": [
    "def human_years_cat_years_dog_years(human_years):\n",
    "    cat_years = 15 + (9 * (n > 1)) + (4 * (n - 2) * (n > 2))\n",
    "    dog_years = 15 + (9 * (n > 1)) + (5 * (n - 2) * (n > 2))\n",
    "    return [human_years, cat_years, dog_years]"
   ]
  },
  {
   "cell_type": "code",
   "execution_count": null,
   "id": "87b6fba7",
   "metadata": {},
   "outputs": [],
   "source": []
  },
  {
   "cell_type": "code",
   "execution_count": null,
   "id": "10930707",
   "metadata": {},
   "outputs": [],
   "source": []
  }
 ],
 "metadata": {
  "kernelspec": {
   "display_name": "Python 3 (ipykernel)",
   "language": "python",
   "name": "python3"
  },
  "language_info": {
   "codemirror_mode": {
    "name": "ipython",
    "version": 3
   },
   "file_extension": ".py",
   "mimetype": "text/x-python",
   "name": "python",
   "nbconvert_exporter": "python",
   "pygments_lexer": "ipython3",
   "version": "3.11.3"
  }
 },
 "nbformat": 4,
 "nbformat_minor": 5
}
