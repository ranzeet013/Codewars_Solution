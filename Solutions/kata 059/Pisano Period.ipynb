{
 "cells": [
  {
   "cell_type": "markdown",
   "id": "1699e00b",
   "metadata": {},
   "source": [
    "#### DESCRIPTION:\n",
    "\n",
    "The Fibonacci numbers are the numbers in the integer sequence:\n",
    "\n",
    "0, 1, 1, 2, 3, 5, 8, 13, 21, 34, 55, 89, 144, 233, 377, 610, 987, 1597, 2584, 4181, 6765, 10946, 17711, 28657, 46368, ...\n",
    "\n",
    "Defined by the recurrence relation\n",
    "\n",
    "  Fib(0) = 0 \n",
    "  \n",
    "  Fib(1) = 1\n",
    "  \n",
    "  Fib(2) = 1\n",
    "  \n",
    "  Fib(i) = Fib(i-1) + Fib(i-2)\n",
    "  \n",
    "For any integer n, the sequence of Fibonacci numbers Fib(i) taken modulo n is periodic. The Pisano period, denoted Pisano(n), is the length of the period of this sequence.\n",
    "\n",
    "For example, the sequence of Fibonacci numbers modulo 3 begins:\n",
    "\n",
    "0, 1, 1, 2, 0, 2, 2, 1, 0, 1, 1, 2, 0, 2, 2, 1, 0, 1, 1, 2, 0, 2, 2, 1, ... \n",
    "\n",
    "This sequence has period 8. The repeating patter is 0, 1, 1, 2, 0, 2, 2, 1 So Pisano(3) = 8\n",
    "\n",
    "Your task is to write the Pisano function that takes an integer n and outputs the length of pisano period."
   ]
  },
  {
   "cell_type": "code",
   "execution_count": 1,
   "id": "883bc2c8",
   "metadata": {},
   "outputs": [],
   "source": [
    "def pisano(n):\n",
    "    a, b = 0, 1\n",
    "    period = 0\n",
    "    while True:\n",
    "        a, b = b, (a + b) % n\n",
    "        period += 1\n",
    "        if a == 0 and b == 1:\n",
    "            return period"
   ]
  },
  {
   "cell_type": "code",
   "execution_count": 3,
   "id": "f8d601d4",
   "metadata": {},
   "outputs": [
    {
     "name": "stdout",
     "output_type": "stream",
     "text": [
      "28\n"
     ]
    }
   ],
   "source": [
    "print(pisano(13))"
   ]
  },
  {
   "cell_type": "code",
   "execution_count": null,
   "id": "4cacfaf1",
   "metadata": {},
   "outputs": [],
   "source": []
  }
 ],
 "metadata": {
  "kernelspec": {
   "display_name": "Python 3 (ipykernel)",
   "language": "python",
   "name": "python3"
  },
  "language_info": {
   "codemirror_mode": {
    "name": "ipython",
    "version": 3
   },
   "file_extension": ".py",
   "mimetype": "text/x-python",
   "name": "python",
   "nbconvert_exporter": "python",
   "pygments_lexer": "ipython3",
   "version": "3.11.3"
  }
 },
 "nbformat": 4,
 "nbformat_minor": 5
}
