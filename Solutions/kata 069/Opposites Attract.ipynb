{
 "cells": [
  {
   "cell_type": "markdown",
   "id": "09f0a5cf",
   "metadata": {},
   "source": [
    "#### DESCRIPTION:\n",
    "\n",
    "Timmy & Sarah think they are in love, but around where they live, they will only know once they pick a flower each. If one of the flowers has an even number of petals and the other has an odd number of petals it means they are in love.\n",
    "\n",
    "Write a function that will take the number of petals of each flower and return true if they are in love and false if they aren't."
   ]
  },
  {
   "cell_type": "code",
   "execution_count": 1,
   "id": "09776ae8",
   "metadata": {},
   "outputs": [],
   "source": [
    "def lovefunc(flower1, flower2):\n",
    "    return flower1 % 2 != flower2 % 2"
   ]
  },
  {
   "cell_type": "code",
   "execution_count": 2,
   "id": "a47f13fd",
   "metadata": {},
   "outputs": [
    {
     "name": "stdout",
     "output_type": "stream",
     "text": [
      "True\n",
      "False\n"
     ]
    }
   ],
   "source": [
    "print(lovefunc(2, 3))  \n",
    "print(lovefunc(4, 6)) "
   ]
  },
  {
   "cell_type": "code",
   "execution_count": null,
   "id": "06221fd0",
   "metadata": {},
   "outputs": [],
   "source": []
  }
 ],
 "metadata": {
  "kernelspec": {
   "display_name": "Python 3 (ipykernel)",
   "language": "python",
   "name": "python3"
  },
  "language_info": {
   "codemirror_mode": {
    "name": "ipython",
    "version": 3
   },
   "file_extension": ".py",
   "mimetype": "text/x-python",
   "name": "python",
   "nbconvert_exporter": "python",
   "pygments_lexer": "ipython3",
   "version": "3.11.3"
  }
 },
 "nbformat": 4,
 "nbformat_minor": 5
}
