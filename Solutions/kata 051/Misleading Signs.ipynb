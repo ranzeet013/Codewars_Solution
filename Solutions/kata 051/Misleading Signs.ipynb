{
 "cells": [
  {
   "cell_type": "markdown",
   "id": "d61d1456",
   "metadata": {},
   "source": [
    "#### DESCRIPTION:\n",
    "\n",
    "You order a shirt for your friend that has a word written in sign language on it, you would like to fool your friend into thinking it says something other than what it actually says.\n",
    "\n",
    "Your friend is smart, but he can't know what he doesn't already know, he only knows a certain amount of letters in sign language. Given the word on the shirt, the word you are attempting to make your friend believe is on the shirt, and the letters in sign language your friends knows, figure out if he can tell that you are fooling him. Return true if your friend can figure out you are fooling him, otherwise return false.\n",
    "\n",
    "It is guaranteed that both words will be the same length and will be in lowercase letters (a-z)\n",
    "\n",
    "#### Example 1:\n",
    "\n",
    "Word on shirt: snack\n",
    "\n",
    "Word you said: snake\n",
    "\n",
    "Letters your friend knows: [c]\n",
    "\n",
    "return true\n",
    "\n",
    "Your friend knows the 4th letter is a c rather than a k.\n",
    "\n",
    "If the word on the shirt and the word you told your friend is the same then you aren't fooling your friend, so you should return false\n",
    "\n",
    "#### Example 2:\n",
    "\n",
    "Word on shirt: snack\n",
    "\n",
    "Word you said: snack\n",
    "\n",
    "Letters your friend knows: [s, n, a, c, k]\n",
    "\n",
    "return false \n",
    "\n",
    "Since you are not fooling your \n",
    "\n",
    "#### Example 3:\n",
    "\n",
    "Word on shirt: snake\n",
    "\n",
    "Word you said: snack\n",
    "\n",
    "Letters your friend knows: [c]\n",
    "\n",
    "return true \n",
    "\n",
    "Your friend knows that the 4th letter is not a \n",
    "\n",
    "#### Example 4:\n",
    "\n",
    "Word on shirt: \n",
    "\n",
    "Word you said: \n",
    "\n",
    "Letters your friend knows: [s, m, i]\n",
    "\n",
    "\n",
    "return false\n",
    "\n",
    "Your friend doesn't know what the letters l and e from smi(le) look like in sign language.\n",
    "So he cannot say that those letters are not r or k from smi(rk) because he wouldn't know\n",
    "So your friend cannot figure out if you are fooling him."
   ]
  },
  {
   "cell_type": "code",
   "execution_count": 3,
   "id": "7f933f43",
   "metadata": {},
   "outputs": [],
   "source": [
    "def gaslighting(shirt_word:str, your_word:str, friends_letters:str) -> bool:\n",
    "    for a, b in zip(shirt_word, your_word):\n",
    "        for letters in (a, b):\n",
    "            if letters in friends_letters and a != b:\n",
    "                return True\n",
    "            \n",
    "    return False"
   ]
  },
  {
   "cell_type": "code",
   "execution_count": 4,
   "id": "74e9aaaa",
   "metadata": {},
   "outputs": [
    {
     "name": "stdout",
     "output_type": "stream",
     "text": [
      "False\n"
     ]
    }
   ],
   "source": [
    "print(gaslighting(\"snack\", \"snack\", \"snack\"))  \n"
   ]
  },
  {
   "cell_type": "code",
   "execution_count": null,
   "id": "8c3bd3de",
   "metadata": {},
   "outputs": [],
   "source": []
  }
 ],
 "metadata": {
  "kernelspec": {
   "display_name": "Python 3 (ipykernel)",
   "language": "python",
   "name": "python3"
  },
  "language_info": {
   "codemirror_mode": {
    "name": "ipython",
    "version": 3
   },
   "file_extension": ".py",
   "mimetype": "text/x-python",
   "name": "python",
   "nbconvert_exporter": "python",
   "pygments_lexer": "ipython3",
   "version": "3.11.3"
  }
 },
 "nbformat": 4,
 "nbformat_minor": 5
}
