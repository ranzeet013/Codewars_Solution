{
 "cells": [
  {
   "cell_type": "markdown",
   "id": "0b07d67e",
   "metadata": {},
   "source": [
    "#### Task\n",
    "Sum all the numbers of a given array ( cq. list ), except the highest and the lowest element ( by value, not by index! ).\n",
    "\n",
    "The highest or lowest element respectively is a single element at each edge, even if there are more than one with the same value.\n",
    "\n",
    "Mind the input validation.\n",
    "\n",
    "#### Example\n",
    "\n",
    "{ 6, 2, 1, 8, 10 } => 16\n",
    "\n",
    "{ 1, 1, 11, 2, 3 } => 6\n",
    "\n",
    "#### Input validation\n",
    "\n",
    "If an empty value ( null, None, Nothing etc. ) is given instead of an array, or the given array is an empty list or a list with only 1 element, return 0."
   ]
  },
  {
   "cell_type": "code",
   "execution_count": 1,
   "id": "53266b51",
   "metadata": {},
   "outputs": [],
   "source": [
    "def sum_array(arr):\n",
    "    return sum(sorted(arr)[1:-1]) if arr and len(arr) > 1 else 0"
   ]
  },
  {
   "cell_type": "code",
   "execution_count": 2,
   "id": "609aac77",
   "metadata": {},
   "outputs": [
    {
     "name": "stdout",
     "output_type": "stream",
     "text": [
      "6\n"
     ]
    }
   ],
   "source": [
    "print(sum_array([1, 1, 11, 2, 3])) "
   ]
  },
  {
   "cell_type": "code",
   "execution_count": null,
   "id": "9d0ddf8c",
   "metadata": {},
   "outputs": [],
   "source": []
  }
 ],
 "metadata": {
  "kernelspec": {
   "display_name": "Python 3 (ipykernel)",
   "language": "python",
   "name": "python3"
  },
  "language_info": {
   "codemirror_mode": {
    "name": "ipython",
    "version": 3
   },
   "file_extension": ".py",
   "mimetype": "text/x-python",
   "name": "python",
   "nbconvert_exporter": "python",
   "pygments_lexer": "ipython3",
   "version": "3.11.3"
  }
 },
 "nbformat": 4,
 "nbformat_minor": 5
}
