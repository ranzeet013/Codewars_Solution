{
 "cells": [
  {
   "cell_type": "markdown",
   "id": "07947db9",
   "metadata": {},
   "source": [
    "#### DESCRIPTION:\n",
    "\n",
    "Write a function partlist that gives all the ways to divide a list (an array) of at least two elements into two non-empty parts.\n",
    "\n",
    "Each two non empty parts will be in a pair (or an array for languages without tuples or a structin C - C: see Examples test Cases - )\n",
    "Each part will be in a string\n",
    "Elements of a pair must be in the same order as in the original array.\n",
    "Examples of returns in different languages:\n",
    "\n",
    "a = [\"az\", \"toto\", \"picaro\", \"zone\", \"kiwi\"] -->\n",
    "[[\"az\", \"toto picaro zone kiwi\"], [\"az toto\", \"picaro zone kiwi\"], [\"az toto picaro\", \"zone kiwi\"], [\"az toto picaro zone\", \"kiwi\"]] \n",
    "\n",
    "or\n",
    "\n",
    " a = {\"az\", \"toto\", \"picaro\", \"zone\", \"kiwi\"} -->\n",
    "{{\"az\", \"toto picaro zone kiwi\"}, {\"az toto\", \"picaro zone kiwi\"}, {\"az toto picaro\", \"zone kiwi\"}, {\"az toto picaro zone\", \"kiwi\"}}\n",
    "\n",
    "or\n",
    "\n",
    "a = [\"az\", \"toto\", \"picaro\", \"zone\", \"kiwi\"] -->\n",
    "[(\"az\", \"toto picaro zone kiwi\"), (\"az toto\", \"picaro zone kiwi\"), (\"az toto picaro\", \"zone kiwi\"), (\"az toto picaro zone\", \"kiwi\")]\n",
    "\n",
    "or \n",
    "\n",
    "a = [|\"az\", \"toto\", \"picaro\", \"zone\", \"kiwi\"|] -->\n",
    "[(\"az\", \"toto picaro zone kiwi\"), (\"az toto\", \"picaro zone kiwi\"), (\"az toto picaro\", \"zone kiwi\"), (\"az toto picaro zone\", \"kiwi\")]\n",
    "\n",
    "or\n",
    "\n",
    "a = [\"az\", \"toto\", \"picaro\", \"zone\", \"kiwi\"] -->\n",
    "\"(az, toto picaro zone kiwi)(az toto, picaro zone kiwi)(az toto picaro, zone kiwi)(az toto picaro zone, kiwi)\"\n",
    "\n",
    "#### Note\n",
    "\n",
    "You can see other examples for each language in \"Your test cases\""
   ]
  },
  {
   "cell_type": "code",
   "execution_count": 2,
   "id": "e5a82fc7",
   "metadata": {},
   "outputs": [],
   "source": [
    "def partlist(arr):\n",
    "    result = []\n",
    "    \n",
    "    for i in range(1, len(arr)):\n",
    "        x = ' '.join(arr[:i])\n",
    "        y = ' '.join(arr[i:])\n",
    "        result.append((x,y))\n",
    "    \n",
    "    return result"
   ]
  },
  {
   "cell_type": "code",
   "execution_count": 3,
   "id": "77c94557",
   "metadata": {},
   "outputs": [
    {
     "name": "stdout",
     "output_type": "stream",
     "text": [
      "[('az', 'toto picaro zone kiwi'), ('az toto', 'picaro zone kiwi'), ('az toto picaro', 'zone kiwi'), ('az toto picaro zone', 'kiwi')]\n"
     ]
    }
   ],
   "source": [
    "a = [\"az\", \"toto\", \"picaro\", \"zone\", \"kiwi\"]\n",
    "print(partlist(a))"
   ]
  }
 ],
 "metadata": {
  "kernelspec": {
   "display_name": "Python 3 (ipykernel)",
   "language": "python",
   "name": "python3"
  },
  "language_info": {
   "codemirror_mode": {
    "name": "ipython",
    "version": 3
   },
   "file_extension": ".py",
   "mimetype": "text/x-python",
   "name": "python",
   "nbconvert_exporter": "python",
   "pygments_lexer": "ipython3",
   "version": "3.11.3"
  }
 },
 "nbformat": 4,
 "nbformat_minor": 5
}
