{
 "cells": [
  {
   "cell_type": "markdown",
   "id": "4a9bb3e2",
   "metadata": {},
   "source": [
    "#### DESCRIPTION:\n",
    "\n",
    "Create a function that returns the sum of the two lowest positive numbers given an array of minimum 4 positive integers. No floats or non-positive integers will be passed.\n",
    "\n",
    "For example, when an array is passed like [19, 5, 42, 2, 77], the output should be 7.\n",
    "\n",
    "[10, 343445353, 3453445, 3453545353453] should return 3453455."
   ]
  },
  {
   "cell_type": "code",
   "execution_count": 1,
   "id": "8ee6ff5f",
   "metadata": {},
   "outputs": [],
   "source": [
    "def sum_two_smallest_numbers(numbers):\n",
    "    sorted_numbers = sorted(numbers)\n",
    "    sum_of_two_smallest = sorted_numbers[0] + sorted_numbers[1]\n",
    "    return sum_of_two_smallest"
   ]
  },
  {
   "cell_type": "code",
   "execution_count": 2,
   "id": "205c1d88",
   "metadata": {},
   "outputs": [
    {
     "name": "stdout",
     "output_type": "stream",
     "text": [
      "3453455\n"
     ]
    }
   ],
   "source": [
    "print(sum_two_smallest_numbers([10, 343445353, 3453445, 3453545353453])) "
   ]
  },
  {
   "cell_type": "code",
   "execution_count": null,
   "id": "c2d4c23a",
   "metadata": {},
   "outputs": [],
   "source": []
  }
 ],
 "metadata": {
  "kernelspec": {
   "display_name": "Python 3 (ipykernel)",
   "language": "python",
   "name": "python3"
  },
  "language_info": {
   "codemirror_mode": {
    "name": "ipython",
    "version": 3
   },
   "file_extension": ".py",
   "mimetype": "text/x-python",
   "name": "python",
   "nbconvert_exporter": "python",
   "pygments_lexer": "ipython3",
   "version": "3.11.3"
  }
 },
 "nbformat": 4,
 "nbformat_minor": 5
}
