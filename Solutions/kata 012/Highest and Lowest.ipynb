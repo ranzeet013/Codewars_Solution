{
 "cells": [
  {
   "cell_type": "markdown",
   "id": "46d9bb79",
   "metadata": {},
   "source": [
    "### DESCRIPTION:\n",
    "In this little assignment you are given a string of space separated numbers, and have to return the highest and lowest number.\n",
    "\n",
    "#### Examples\n",
    "high_and_low(\"1 2 3 4 5\")  # return \"5 1\"\n",
    "\n",
    "high_and_low(\"1 2 -3 4 5\") # return \"5 -3\"\n",
    "\n",
    "high_and_low(\"1 9 3 4 -5\") # return \"9 -5\"\n",
    "\n",
    "#### Notes\n",
    "All numbers are valid Int32, no need to validate them.\n",
    "There will always be at least one number in the input string.\n",
    "Output string must be two numbers separated by a single space, and highest number is first."
   ]
  },
  {
   "cell_type": "code",
   "execution_count": 1,
   "id": "23b7b0e3",
   "metadata": {},
   "outputs": [],
   "source": [
    "def high_and_low(numbers_str):\n",
    "    numbers = [int(num) for num in numbers_str.split()]\n",
    "    highest = max(numbers)\n",
    "    lowest = min(numbers)\n",
    "    result = \"{} {}\".format(highest, lowest)\n",
    "    return result"
   ]
  },
  {
   "cell_type": "code",
   "execution_count": 2,
   "id": "4aa6c4b0",
   "metadata": {},
   "outputs": [
    {
     "name": "stdout",
     "output_type": "stream",
     "text": [
      "5 -3\n"
     ]
    }
   ],
   "source": [
    "print(high_and_low(\"1 2 -3 4 5\"))"
   ]
  },
  {
   "cell_type": "code",
   "execution_count": null,
   "id": "52eec8a2",
   "metadata": {},
   "outputs": [],
   "source": []
  }
 ],
 "metadata": {
  "kernelspec": {
   "display_name": "Python 3 (ipykernel)",
   "language": "python",
   "name": "python3"
  },
  "language_info": {
   "codemirror_mode": {
    "name": "ipython",
    "version": 3
   },
   "file_extension": ".py",
   "mimetype": "text/x-python",
   "name": "python",
   "nbconvert_exporter": "python",
   "pygments_lexer": "ipython3",
   "version": "3.11.3"
  }
 },
 "nbformat": 4,
 "nbformat_minor": 5
}
