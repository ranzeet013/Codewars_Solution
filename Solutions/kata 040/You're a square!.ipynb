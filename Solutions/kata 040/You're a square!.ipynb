{
 "cells": [
  {
   "cell_type": "markdown",
   "id": "92054e9d",
   "metadata": {},
   "source": [
    "#### A square of squares\n",
    "\n",
    "You like building blocks. You especially like building blocks that are squares. And what you even like more, is to arrange them into a square of square building blocks!\n",
    "\n",
    "However, sometimes, you can't arrange them into a square. Instead, you end up with an ordinary rectangle! Those blasted things! If you just had a way to know, whether you're currently working in vain… Wait! That's it! You just have to check if your number of building blocks is a perfect square.\n",
    "\n",
    "#### Task\n",
    "\n",
    "Given an integral number, determine if it's a square number:\n",
    "\n",
    "In mathematics, a square number or perfect square is an integer that is the square of an integer; in other words, it is the product of some integer with itself.\n",
    "\n",
    "The tests will always use some integral number, so don't worry about that in dynamic typed languages.\n",
    "\n",
    "#### Examples\n",
    "\n",
    "-1  =>  false\n",
    "\n",
    " 0  =>  true\n",
    "    \n",
    " 3  =>  false\n",
    "\n",
    " 4  =>  true\n",
    "    \n",
    "25  =>  true\n",
    "\n",
    "26  =>  false"
   ]
  },
  {
   "cell_type": "code",
   "execution_count": 1,
   "id": "f2a28174",
   "metadata": {},
   "outputs": [],
   "source": [
    "from math import sqrt\n",
    "\n",
    "def is_square(n):    \n",
    "    return n>=0 and sqrt(n).is_integer()"
   ]
  },
  {
   "cell_type": "code",
   "execution_count": 2,
   "id": "48946534",
   "metadata": {},
   "outputs": [
    {
     "name": "stdout",
     "output_type": "stream",
     "text": [
      "False\n",
      "True\n"
     ]
    }
   ],
   "source": [
    "print(is_square(3))   \n",
    "print(is_square(4)) "
   ]
  },
  {
   "cell_type": "code",
   "execution_count": null,
   "id": "64435b39",
   "metadata": {},
   "outputs": [],
   "source": []
  }
 ],
 "metadata": {
  "kernelspec": {
   "display_name": "Python 3 (ipykernel)",
   "language": "python",
   "name": "python3"
  },
  "language_info": {
   "codemirror_mode": {
    "name": "ipython",
    "version": 3
   },
   "file_extension": ".py",
   "mimetype": "text/x-python",
   "name": "python",
   "nbconvert_exporter": "python",
   "pygments_lexer": "ipython3",
   "version": "3.11.3"
  }
 },
 "nbformat": 4,
 "nbformat_minor": 5
}
