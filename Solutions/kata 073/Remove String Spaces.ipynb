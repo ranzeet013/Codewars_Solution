{
 "cells": [
  {
   "cell_type": "markdown",
   "id": "78c3cb1f",
   "metadata": {},
   "source": [
    "#### DESCRIPTION:\n",
    "Write a function that removes the spaces from the string, then return the resultant string.\n",
    "\n",
    "#### Examples:\n",
    "\n",
    "Input -> Output\n",
    "\n",
    "\"8 j 8   mBliB8g  imjB8B8  jl  B\" -> \"8j8mBliB8gimjB8B8jlB\"\n",
    "\n",
    "\"8 8 Bi fk8h B 8 BB8B B B  B888 c hl8 BhB fd\" -> \"88Bifk8hB8BB8BBBB888chl8BhBfd\"\n",
    "\n",
    "\"8aaaaa dddd r     \" -> \"8aaaaaddddr\""
   ]
  },
  {
   "cell_type": "code",
   "execution_count": 1,
   "id": "8c26004f",
   "metadata": {},
   "outputs": [],
   "source": [
    "def no_space(x):\n",
    "    return x.replace(' ' ,'')"
   ]
  },
  {
   "cell_type": "code",
   "execution_count": 2,
   "id": "b5eef8a2",
   "metadata": {},
   "outputs": [
    {
     "data": {
      "text/plain": [
       "'88Bifk8hB8BB8BBBB888chl8BhBfd'"
      ]
     },
     "execution_count": 2,
     "metadata": {},
     "output_type": "execute_result"
    }
   ],
   "source": [
    "no_space(\"8 8 Bi fk8h B 8 BB8B B B B888 c hl8 BhB fd\")"
   ]
  },
  {
   "cell_type": "code",
   "execution_count": null,
   "id": "4074aca5",
   "metadata": {},
   "outputs": [],
   "source": []
  }
 ],
 "metadata": {
  "kernelspec": {
   "display_name": "Python 3 (ipykernel)",
   "language": "python",
   "name": "python3"
  },
  "language_info": {
   "codemirror_mode": {
    "name": "ipython",
    "version": 3
   },
   "file_extension": ".py",
   "mimetype": "text/x-python",
   "name": "python",
   "nbconvert_exporter": "python",
   "pygments_lexer": "ipython3",
   "version": "3.11.3"
  }
 },
 "nbformat": 4,
 "nbformat_minor": 5
}
