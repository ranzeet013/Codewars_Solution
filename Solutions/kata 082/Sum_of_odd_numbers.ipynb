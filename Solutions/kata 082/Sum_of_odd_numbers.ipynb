{
  "nbformat": 4,
  "nbformat_minor": 0,
  "metadata": {
    "colab": {
      "provenance": []
    },
    "kernelspec": {
      "name": "python3",
      "display_name": "Python 3"
    },
    "language_info": {
      "name": "python"
    }
  },
  "cells": [
    {
      "cell_type": "markdown",
      "source": [],
      "metadata": {
        "id": "5arhaB1tW9Gy"
      }
    },
    {
      "cell_type": "markdown",
      "source": [
        "DESCRIPTION:\n",
        "\n",
        "Given the triangle of consecutive odd numbers:\n",
        "\n",
        "             1\n",
        "          3     5\n",
        "       7     9    11\n",
        "   13    15    17    19\n",
        "21    23    25    27    29\n",
        "...\n",
        "Calculate the sum of the numbers in the nth row of this triangle (starting at index 1)\n",
        "\n",
        "e.g.: (Input --> Output)\n",
        "\n",
        "1 -->  1\n",
        "2 --> 3 + 5 = 8"
      ],
      "metadata": {
        "id": "iD_TXo_3W9Jy"
      }
    },
    {
      "cell_type": "code",
      "source": [
        "def row_sum_odd_numbers(n):\n",
        "    return n**3"
      ],
      "metadata": {
        "id": "x6Pow3ruXHYv"
      },
      "execution_count": 2,
      "outputs": []
    },
    {
      "cell_type": "code",
      "source": [],
      "metadata": {
        "id": "k55JS4ejXUF4"
      },
      "execution_count": null,
      "outputs": []
    }
  ]
}