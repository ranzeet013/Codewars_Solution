{
 "cells": [
  {
   "cell_type": "markdown",
   "id": "72b66396",
   "metadata": {},
   "source": [
    "#### DESCRIPTION:\n",
    "\n",
    "#### Task:\n",
    "\n",
    "Your task is to write a function which returns the sum of following series upto nth term(parameter).\n",
    "\n",
    "Series: 1 + 1/4 + 1/7 + 1/10 + 1/13 + 1/16 +...\n",
    "\n",
    "#### Rules:\n",
    "\n",
    "You need to round the answer to 2 decimal places and return it as String.\n",
    "\n",
    "If the given value is 0 then it should return 0.00\n",
    "\n",
    "You will only be given Natural Numbers as arguments.\n",
    "\n",
    "#### Examples:(Input --> Output)\n",
    "\n",
    "1 --> 1 --> \"1.00\"\n",
    "\n",
    "2 --> 1 + 1/4 --> \"1.25\"\n",
    "\n",
    "5 --> 1 + 1/4 + 1/7 + 1/10 + 1/13 --> \"1.57\""
   ]
  },
  {
   "cell_type": "code",
   "execution_count": 1,
   "id": "2bf9fa22",
   "metadata": {},
   "outputs": [],
   "source": [
    "def series_sum(n):\n",
    "    if n == 0:\n",
    "        return \"0.00\"\n",
    "\n",
    "    total = 0\n",
    "    for i in range(n):\n",
    "        total += 1 / (1 + i * 3)\n",
    "\n",
    "    return \"{:.2f}\".format(total)"
   ]
  },
  {
   "cell_type": "code",
   "execution_count": 2,
   "id": "e1fd1795",
   "metadata": {},
   "outputs": [
    {
     "name": "stdout",
     "output_type": "stream",
     "text": [
      "2.31\n"
     ]
    }
   ],
   "source": [
    "print(series_sum(45))"
   ]
  },
  {
   "cell_type": "code",
   "execution_count": null,
   "id": "a731bc25",
   "metadata": {},
   "outputs": [],
   "source": []
  }
 ],
 "metadata": {
  "kernelspec": {
   "display_name": "Python 3 (ipykernel)",
   "language": "python",
   "name": "python3"
  },
  "language_info": {
   "codemirror_mode": {
    "name": "ipython",
    "version": 3
   },
   "file_extension": ".py",
   "mimetype": "text/x-python",
   "name": "python",
   "nbconvert_exporter": "python",
   "pygments_lexer": "ipython3",
   "version": "3.11.3"
  }
 },
 "nbformat": 4,
 "nbformat_minor": 5
}
