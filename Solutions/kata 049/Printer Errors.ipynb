{
 "cells": [
  {
   "cell_type": "markdown",
   "id": "de76cb9f",
   "metadata": {},
   "source": [
    "#### DESCRIPTION:\n",
    "\n",
    "In a factory a printer prints labels for boxes. For one kind of boxes the printer has to use colors which, for the sake of simplicity, are named with letters from a to m.\n",
    "\n",
    "The colors used by the printer are recorded in a control string. For example a \"good\" control string would be aaabbbbhaijjjm meaning that the printer used three times color a, four times color b, one time color h then one time color a...\n",
    "\n",
    "Sometimes there are problems: lack of colors, technical malfunction and a \"bad\" control string is produced e.g. aaaxbbbbyyhwawiwjjjwwm with letters not from a to m.\n",
    "\n",
    "You have to write a function printer_error which given a string will return the error rate of the printer as a string representing a rational whose numerator is the number of errors and the denominator the length of the control string. Don't reduce this fraction to a simpler expression.\n",
    "\n",
    "The string has a length greater or equal to one and contains only letters from ato z."
   ]
  },
  {
   "cell_type": "code",
   "execution_count": 1,
   "id": "1ec66b20",
   "metadata": {},
   "outputs": [],
   "source": [
    "def printer_error(s):\n",
    "  error = len([c for c in s if c not in 'abcdefghijklm'])\n",
    "  return '{}/{}'.format(error, len(s))"
   ]
  },
  {
   "cell_type": "code",
   "execution_count": 2,
   "id": "31eeac21",
   "metadata": {},
   "outputs": [
    {
     "name": "stdout",
     "output_type": "stream",
     "text": [
      "8/22\n"
     ]
    }
   ],
   "source": [
    "print(printer_error(\"aaaxbbbbyyhwawiwjjjwwm\"))"
   ]
  },
  {
   "cell_type": "code",
   "execution_count": null,
   "id": "da6e62f4",
   "metadata": {},
   "outputs": [],
   "source": []
  }
 ],
 "metadata": {
  "kernelspec": {
   "display_name": "Python 3 (ipykernel)",
   "language": "python",
   "name": "python3"
  },
  "language_info": {
   "codemirror_mode": {
    "name": "ipython",
    "version": 3
   },
   "file_extension": ".py",
   "mimetype": "text/x-python",
   "name": "python",
   "nbconvert_exporter": "python",
   "pygments_lexer": "ipython3",
   "version": "3.11.3"
  }
 },
 "nbformat": 4,
 "nbformat_minor": 5
}
