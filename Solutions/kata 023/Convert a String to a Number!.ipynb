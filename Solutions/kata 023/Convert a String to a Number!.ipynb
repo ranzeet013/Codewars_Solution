{
 "cells": [
  {
   "cell_type": "markdown",
   "id": "e4c8b8c4",
   "metadata": {},
   "source": [
    "#### Description:\n",
    "\n",
    "We need a function that can transform a string into a number. What ways of achieving this do you know?\n",
    "\n",
    "Note: Don't worry, all inputs will be strings, and every string is a perfectly valid representation of an integral number.\n",
    "\n",
    "#### Examples\n",
    "\n",
    "\"1234\" --> 1234\n",
    "\n",
    "\"605\"  --> 605\n",
    "\n",
    "\"1405\" --> 1405\n",
    "\n",
    "\"-7\" --> -7"
   ]
  },
  {
   "cell_type": "code",
   "execution_count": 4,
   "id": "5e1e89c9",
   "metadata": {},
   "outputs": [],
   "source": [
    "def string_to_number(string):\n",
    "    return int(string)"
   ]
  },
  {
   "cell_type": "code",
   "execution_count": 5,
   "id": "77663dc9",
   "metadata": {},
   "outputs": [
    {
     "data": {
      "text/plain": [
       "234567"
      ]
     },
     "execution_count": 5,
     "metadata": {},
     "output_type": "execute_result"
    }
   ],
   "source": [
    "string_to_number(\"234567\")"
   ]
  },
  {
   "cell_type": "code",
   "execution_count": null,
   "id": "afacb0b6",
   "metadata": {},
   "outputs": [],
   "source": []
  }
 ],
 "metadata": {
  "kernelspec": {
   "display_name": "Python 3 (ipykernel)",
   "language": "python",
   "name": "python3"
  },
  "language_info": {
   "codemirror_mode": {
    "name": "ipython",
    "version": 3
   },
   "file_extension": ".py",
   "mimetype": "text/x-python",
   "name": "python",
   "nbconvert_exporter": "python",
   "pygments_lexer": "ipython3",
   "version": "3.11.3"
  }
 },
 "nbformat": 4,
 "nbformat_minor": 5
}
