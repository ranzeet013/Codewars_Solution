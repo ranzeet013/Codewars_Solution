{
 "cells": [
  {
   "cell_type": "markdown",
   "id": "f162e0a4",
   "metadata": {},
   "source": [
    "#### DESCRIPTION:\n",
    "\n",
    "Task\n",
    "You will be given an array of numbers. You have to sort the odd numbers in ascending order while leaving the even numbers at their original positions.\n",
    "\n",
    "Examples\n",
    "\n",
    "[7, 1]  =>  [1, 7]\n",
    "\n",
    "[5, 8, 6, 3, 4]  =>  [3, 8, 6, 5, 4]\n",
    "\n",
    "[9, 8, 7, 6, 5, 4, 3, 2, 1, 0]  =>  [1, 8, 3, 6, 5, 4, 7, 2, 9, 0]"
   ]
  },
  {
   "cell_type": "code",
   "execution_count": 1,
   "id": "446b0748",
   "metadata": {},
   "outputs": [],
   "source": [
    "def sort_array(array):\n",
    "    odd_numbers = [x for x in array if x % 2 != 0]\n",
    "    odd_numbers.sort()\n",
    "\n",
    "    for i in range(len(array)):\n",
    "        if array[i] % 2 != 0:\n",
    "            array[i] = odd_numbers.pop(0)\n",
    "    return array"
   ]
  },
  {
   "cell_type": "code",
   "execution_count": 5,
   "id": "ce97e3c6",
   "metadata": {},
   "outputs": [
    {
     "name": "stdout",
     "output_type": "stream",
     "text": [
      "[1, 8, 3, 6, 5, 4, 7, 2, 9, 0]\n"
     ]
    }
   ],
   "source": [
    "print(sort_array([9, 8, 7, 6, 5, 4, 3, 2, 1, 0])) "
   ]
  },
  {
   "cell_type": "code",
   "execution_count": null,
   "id": "e0e5b14b",
   "metadata": {},
   "outputs": [],
   "source": []
  }
 ],
 "metadata": {
  "kernelspec": {
   "display_name": "Python 3 (ipykernel)",
   "language": "python",
   "name": "python3"
  },
  "language_info": {
   "codemirror_mode": {
    "name": "ipython",
    "version": 3
   },
   "file_extension": ".py",
   "mimetype": "text/x-python",
   "name": "python",
   "nbconvert_exporter": "python",
   "pygments_lexer": "ipython3",
   "version": "3.11.3"
  }
 },
 "nbformat": 4,
 "nbformat_minor": 5
}
