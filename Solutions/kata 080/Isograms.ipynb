{
 "cells": [
  {
   "cell_type": "markdown",
   "id": "4f2b7b61",
   "metadata": {},
   "source": [
    "An isogram is a word that has no repeating letters, consecutive or non-consecutive. Implement a function that determines whether a string that contains only letters is an isogram. Assume the empty string is an isogram. Ignore letter case.\n",
    "\n",
    "Example: (Input --> Output)\n",
    "\n",
    "\"Dermatoglyphics\" --> true \"aba\" --> false \"moOse\" --> false (ignore letter case)\n",
    "\n",
    "isIsogram \"Dermatoglyphics\" = true\n",
    "\n",
    "isIsogram \"moose\" = false\n",
    "\n",
    "isIsogram \"aba\" = false"
   ]
  },
  {
   "cell_type": "code",
   "execution_count": 1,
   "id": "36fe81d1",
   "metadata": {},
   "outputs": [],
   "source": [
    "def is_isogram(string):\n",
    "    return len(string) == len(set(string.lower()))"
   ]
  },
  {
   "cell_type": "code",
   "execution_count": null,
   "id": "6a34d172",
   "metadata": {},
   "outputs": [],
   "source": []
  },
  {
   "cell_type": "code",
   "execution_count": null,
   "id": "16f9054a",
   "metadata": {},
   "outputs": [],
   "source": []
  }
 ],
 "metadata": {
  "kernelspec": {
   "display_name": "Python 3 (ipykernel)",
   "language": "python",
   "name": "python3"
  },
  "language_info": {
   "codemirror_mode": {
    "name": "ipython",
    "version": 3
   },
   "file_extension": ".py",
   "mimetype": "text/x-python",
   "name": "python",
   "nbconvert_exporter": "python",
   "pygments_lexer": "ipython3",
   "version": "3.11.3"
  }
 },
 "nbformat": 4,
 "nbformat_minor": 5
}
