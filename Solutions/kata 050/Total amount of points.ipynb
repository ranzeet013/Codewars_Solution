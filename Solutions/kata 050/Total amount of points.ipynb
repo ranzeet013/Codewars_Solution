{
 "cells": [
  {
   "cell_type": "markdown",
   "id": "3cedf275",
   "metadata": {},
   "source": [
    "#### DESCRIPTION:\n",
    "\n",
    "Our football team has finished the championship.\n",
    "\n",
    "Our team's match results are recorded in a collection of strings. Each match is represented by a string in the format \"x:y\", where x is our team's score and y is our opponents score.\n",
    "\n",
    "For example: [\"3:1\", \"2:2\", \"0:1\", ...]\n",
    "\n",
    "Points are awarded for each match as follows:\n",
    "\n",
    "if x > y: 3 points (win)\n",
    "\n",
    "if x < y: 0 points (loss)\n",
    "\n",
    "if x = y: 1 point (tie)\n",
    "\n",
    "We need to write a function that takes this collection and returns the number of points our team (x) got in the championship by the rules given above.\n",
    "\n",
    "#### Notes:\n",
    "\n",
    "our team always plays 10 matches in the championship\n",
    "\n",
    "0 <= x <= 4\n",
    "\n",
    "0 <= y <= 4"
   ]
  },
  {
   "cell_type": "code",
   "execution_count": 1,
   "id": "cd2bb7f7",
   "metadata": {},
   "outputs": [],
   "source": [
    "def points(game):\n",
    "    return sum((x >= y) + 2 * (x > y) for x, y in (s.split(\":\") for s in game))"
   ]
  },
  {
   "cell_type": "code",
   "execution_count": 2,
   "id": "a3127ff3",
   "metadata": {},
   "outputs": [
    {
     "name": "stdout",
     "output_type": "stream",
     "text": [
      "14\n"
     ]
    }
   ],
   "source": [
    "game = [\"3:1\", \"2:2\", \"1:1\", \"2:0\", \"0:0\", \"1:0\", \"3:3\", \"4:4\"]\n",
    "print(points(game))"
   ]
  },
  {
   "cell_type": "code",
   "execution_count": null,
   "id": "93181295",
   "metadata": {},
   "outputs": [],
   "source": []
  }
 ],
 "metadata": {
  "kernelspec": {
   "display_name": "Python 3 (ipykernel)",
   "language": "python",
   "name": "python3"
  },
  "language_info": {
   "codemirror_mode": {
    "name": "ipython",
    "version": 3
   },
   "file_extension": ".py",
   "mimetype": "text/x-python",
   "name": "python",
   "nbconvert_exporter": "python",
   "pygments_lexer": "ipython3",
   "version": "3.11.3"
  }
 },
 "nbformat": 4,
 "nbformat_minor": 5
}
