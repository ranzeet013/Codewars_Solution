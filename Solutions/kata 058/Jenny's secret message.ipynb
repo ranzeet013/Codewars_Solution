{
 "cells": [
  {
   "cell_type": "markdown",
   "id": "ba231769",
   "metadata": {},
   "source": [
    "Jenny has written a function that returns a greeting for a user. However, she's in love with Johnny, and would like to greet him slightly different. She added a special case to her function, but she made a mistake.\n",
    "\n",
    "Can you help her?"
   ]
  },
  {
   "cell_type": "code",
   "execution_count": 1,
   "id": "9e919f22",
   "metadata": {},
   "outputs": [],
   "source": [
    "def greet(name):\n",
    "    return \"Hello, my love!\" if name == 'Johnny' else \"Hello, {name}!\".format(name=name)"
   ]
  },
  {
   "cell_type": "code",
   "execution_count": 2,
   "id": "e89ed421",
   "metadata": {},
   "outputs": [
    {
     "name": "stdout",
     "output_type": "stream",
     "text": [
      "Hello, my love!\n"
     ]
    }
   ],
   "source": [
    "print(greet(\"Johnny\"))"
   ]
  },
  {
   "cell_type": "code",
   "execution_count": 3,
   "id": "6ca18cab",
   "metadata": {},
   "outputs": [
    {
     "name": "stdout",
     "output_type": "stream",
     "text": [
      "Hello, Adarsha!\n"
     ]
    }
   ],
   "source": [
    "print(greet(\"AdarshaJenny's secret message\"))"
   ]
  },
  {
   "cell_type": "code",
   "execution_count": null,
   "id": "3d490295",
   "metadata": {},
   "outputs": [],
   "source": []
  }
 ],
 "metadata": {
  "kernelspec": {
   "display_name": "Python 3 (ipykernel)",
   "language": "python",
   "name": "python3"
  },
  "language_info": {
   "codemirror_mode": {
    "name": "ipython",
    "version": 3
   },
   "file_extension": ".py",
   "mimetype": "text/x-python",
   "name": "python",
   "nbconvert_exporter": "python",
   "pygments_lexer": "ipython3",
   "version": "3.11.3"
  }
 },
 "nbformat": 4,
 "nbformat_minor": 5
}
