{
 "cells": [
  {
   "cell_type": "markdown",
   "id": "adb27440",
   "metadata": {},
   "source": [
    "#### DESCRIPTION:\n",
    "\n",
    "Jaden Smith, the son of Will Smith, is the star of films such as The Karate Kid (2010) and After Earth (2013). Jaden is also known for some of his philosophy that he delivers via Twitter. When writing on Twitter, he is known for almost always capitalizing every word. For simplicity, you'll have to capitalize each word, check out how contractions are expected to be in the example below.\n",
    "\n",
    "Your task is to convert strings to how they would be written by Jaden Smith. The strings are actual quotes from Jaden Smith, but they are not capitalized in the same way he originally typed them.\n",
    "\n",
    "#### Example:\n",
    "\n",
    "Not Jaden-Cased: \"How can mirrors be real if our eyes aren't real\"\n",
    "\n",
    "Jaden-Cased:     \"How Can Mirrors Be Real If Our Eyes Aren't Real\""
   ]
  },
  {
   "cell_type": "code",
   "execution_count": 1,
   "id": "35674bda",
   "metadata": {},
   "outputs": [],
   "source": [
    "def to_jaden_case(string):\n",
    "    words = string.split()\n",
    "    jaden_case_words = [word.capitalize() for word in words]\n",
    "    return ' '.join(jaden_case_words)"
   ]
  },
  {
   "cell_type": "code",
   "execution_count": 3,
   "id": "f497d629",
   "metadata": {},
   "outputs": [
    {
     "name": "stdout",
     "output_type": "stream",
     "text": [
      "Jaden Is Also Known For Some Of His Philosophy That He Delivers Via Twitter.\n"
     ]
    }
   ],
   "source": [
    "print(to_jaden_case(\" Jaden is also known for some of his philosophy that he delivers via Twitter.\"))"
   ]
  },
  {
   "cell_type": "code",
   "execution_count": null,
   "id": "4b59103c",
   "metadata": {},
   "outputs": [],
   "source": []
  }
 ],
 "metadata": {
  "kernelspec": {
   "display_name": "Python 3 (ipykernel)",
   "language": "python",
   "name": "python3"
  },
  "language_info": {
   "codemirror_mode": {
    "name": "ipython",
    "version": 3
   },
   "file_extension": ".py",
   "mimetype": "text/x-python",
   "name": "python",
   "nbconvert_exporter": "python",
   "pygments_lexer": "ipython3",
   "version": "3.11.3"
  }
 },
 "nbformat": 4,
 "nbformat_minor": 5
}
