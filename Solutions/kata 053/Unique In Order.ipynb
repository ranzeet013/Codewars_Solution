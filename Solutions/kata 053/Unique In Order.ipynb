{
 "cells": [
  {
   "cell_type": "markdown",
   "id": "d2cf4026",
   "metadata": {},
   "source": [
    "#### DESCRIPTION:\n",
    "\n",
    "Implement the function unique_in_order which takes as argument a sequence and returns a list of items without any elements with the same value next to each other and preserving the original order of elements.\n",
    "\n",
    "#### For example:\n",
    "\n",
    "unique_in_order('AAAABBBCCDAABBB') == ['A', 'B', 'C', 'D', 'A', 'B']\n",
    "\n",
    "unique_in_order('ABBCcAD')         == ['A', 'B', 'C', 'c', 'A', 'D']\n",
    "\n",
    "unique_in_order([1, 2, 2, 3, 3])   == [1, 2, 3]\n",
    "\n",
    "unique_in_order((1, 2, 2, 3, 3))   == [1, 2, 3]"
   ]
  },
  {
   "cell_type": "code",
   "execution_count": 1,
   "id": "23186673",
   "metadata": {},
   "outputs": [],
   "source": [
    "def unique_in_order(sequence):\n",
    "    unique_list = []\n",
    "    previous_item = None\n",
    "\n",
    "    for item in sequence:\n",
    "        if item != previous_item:\n",
    "            unique_list.append(item)\n",
    "            previous_item = item\n",
    "\n",
    "    return unique_list"
   ]
  },
  {
   "cell_type": "code",
   "execution_count": 2,
   "id": "6e2da959",
   "metadata": {},
   "outputs": [
    {
     "name": "stdout",
     "output_type": "stream",
     "text": [
      "['A', 'B', 'C', 'D', 'A', 'B']\n"
     ]
    }
   ],
   "source": [
    "print(unique_in_order('AAAABBBCCDAABBB'))"
   ]
  },
  {
   "cell_type": "code",
   "execution_count": null,
   "id": "09b754ff",
   "metadata": {},
   "outputs": [],
   "source": []
  }
 ],
 "metadata": {
  "kernelspec": {
   "display_name": "Python 3 (ipykernel)",
   "language": "python",
   "name": "python3"
  },
  "language_info": {
   "codemirror_mode": {
    "name": "ipython",
    "version": 3
   },
   "file_extension": ".py",
   "mimetype": "text/x-python",
   "name": "python",
   "nbconvert_exporter": "python",
   "pygments_lexer": "ipython3",
   "version": "3.11.3"
  }
 },
 "nbformat": 4,
 "nbformat_minor": 5
}
