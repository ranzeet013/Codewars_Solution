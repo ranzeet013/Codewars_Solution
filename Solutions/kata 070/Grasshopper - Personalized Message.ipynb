{
 "cells": [
  {
   "cell_type": "markdown",
   "id": "37c4d678",
   "metadata": {},
   "source": [
    "Create a function that gives a personalized greeting. This function takes two parameters: name and owner.\n",
    "\n",
    "Use conditionals to return the proper message:\n",
    "\n",
    "case\treturn\n",
    "\n",
    "name equals owner\t'Hello boss'\n",
    "\n",
    "otherwise\t'Hello guest'"
   ]
  },
  {
   "cell_type": "code",
   "execution_count": 1,
   "id": "223fe33d",
   "metadata": {},
   "outputs": [],
   "source": [
    "def greet(name, owner):\n",
    "    if name == owner:\n",
    "        return 'Hello boss'\n",
    "    else:\n",
    "        return 'Hello guest'"
   ]
  },
  {
   "cell_type": "code",
   "execution_count": null,
   "id": "ba81452a",
   "metadata": {},
   "outputs": [],
   "source": []
  }
 ],
 "metadata": {
  "kernelspec": {
   "display_name": "Python 3 (ipykernel)",
   "language": "python",
   "name": "python3"
  },
  "language_info": {
   "codemirror_mode": {
    "name": "ipython",
    "version": 3
   },
   "file_extension": ".py",
   "mimetype": "text/x-python",
   "name": "python",
   "nbconvert_exporter": "python",
   "pygments_lexer": "ipython3",
   "version": "3.11.3"
  }
 },
 "nbformat": 4,
 "nbformat_minor": 5
}
