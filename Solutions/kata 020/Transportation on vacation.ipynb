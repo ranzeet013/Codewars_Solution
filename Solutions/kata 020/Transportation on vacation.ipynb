{
 "cells": [
  {
   "cell_type": "markdown",
   "id": "eed69383",
   "metadata": {},
   "source": [
    "#### DESCRIPTION:\n",
    "\n",
    "After a hard quarter in the office you decide to get some rest on a vacation. So you will book a flight for you and your girlfriend and try to leave all the mess behind you.\n",
    "\n",
    "You will need a rental car in order for you to get around in your vacation. The manager of the car rental makes you some good offers.\n",
    "\n",
    "Every day you rent the car costs 40 . If you rent the car for 7 or more days, you get 50 off your total. Alternatively, if you rent the car for 3 or more days, you get 20 off your total.\n",
    "\n",
    "Write a code that gives out the total amount for different days(d)."
   ]
  },
  {
   "cell_type": "code",
   "execution_count": 1,
   "id": "5f64dc30",
   "metadata": {},
   "outputs": [],
   "source": [
    "def rental_car_cost(days):\n",
    "    base_cost_per_day = 40\n",
    "    total_cost = 0\n",
    "\n",
    "    if days >= 7:\n",
    "        total_cost = days * base_cost_per_day - 50\n",
    "    elif days >= 3:\n",
    "        total_cost = days * base_cost_per_day - 20\n",
    "    else:\n",
    "        total_cost = days * base_cost_per_day\n",
    "    return total_cost"
   ]
  },
  {
   "cell_type": "code",
   "execution_count": 2,
   "id": "edc63348",
   "metadata": {},
   "outputs": [
    {
     "data": {
      "text/plain": [
       "430"
      ]
     },
     "execution_count": 2,
     "metadata": {},
     "output_type": "execute_result"
    }
   ],
   "source": [
    "rental_car_cost(12)"
   ]
  },
  {
   "cell_type": "code",
   "execution_count": null,
   "id": "37c3bb6d",
   "metadata": {},
   "outputs": [],
   "source": []
  }
 ],
 "metadata": {
  "kernelspec": {
   "display_name": "Python 3 (ipykernel)",
   "language": "python",
   "name": "python3"
  },
  "language_info": {
   "codemirror_mode": {
    "name": "ipython",
    "version": 3
   },
   "file_extension": ".py",
   "mimetype": "text/x-python",
   "name": "python",
   "nbconvert_exporter": "python",
   "pygments_lexer": "ipython3",
   "version": "3.11.3"
  }
 },
 "nbformat": 4,
 "nbformat_minor": 5
}
