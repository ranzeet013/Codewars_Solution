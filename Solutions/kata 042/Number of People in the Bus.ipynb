{
 "cells": [
  {
   "cell_type": "markdown",
   "id": "cdd70397",
   "metadata": {},
   "source": [
    "There is a bus moving in the city which takes and drops some people at each bus stop.\n",
    "\n",
    "You are provided with a list (or array) of integer pairs. Elements of each pair represent the number of people that get on the bus (the first item) and the number of people that get off the bus (the second item) at a bus stop.\n",
    "\n",
    "Your task is to return the number of people who are still on the bus after the last bus stop (after the last array). Even though it is the last bus stop, the bus might not be empty and some people might still be inside the bus, they are probably sleeping there :D\n",
    "\n",
    "Take a look on the test cases.\n",
    "\n",
    "Please keep in mind that the test cases ensure that the number of people in the bus is always >= 0. So the returned integer can't be negative.\n",
    "\n",
    "The second value in the first pair in the array is 0, since the bus is empty in the first bus stop."
   ]
  },
  {
   "cell_type": "code",
   "execution_count": 2,
   "id": "f81b92f5",
   "metadata": {},
   "outputs": [],
   "source": [
    "def number(bus_stops):\n",
    "    return sum([stop[0] - stop[1] for stop in bus_stops])"
   ]
  },
  {
   "cell_type": "code",
   "execution_count": 3,
   "id": "e7e73bd2",
   "metadata": {},
   "outputs": [
    {
     "name": "stdout",
     "output_type": "stream",
     "text": [
      "21\n"
     ]
    }
   ],
   "source": [
    "print(number([(3, 0), (9, 1), (4, 10), (12, 2), (6, 0)])) "
   ]
  },
  {
   "cell_type": "code",
   "execution_count": null,
   "id": "62332a01",
   "metadata": {},
   "outputs": [],
   "source": []
  }
 ],
 "metadata": {
  "kernelspec": {
   "display_name": "Python 3 (ipykernel)",
   "language": "python",
   "name": "python3"
  },
  "language_info": {
   "codemirror_mode": {
    "name": "ipython",
    "version": 3
   },
   "file_extension": ".py",
   "mimetype": "text/x-python",
   "name": "python",
   "nbconvert_exporter": "python",
   "pygments_lexer": "ipython3",
   "version": "3.11.3"
  }
 },
 "nbformat": 4,
 "nbformat_minor": 5
}
