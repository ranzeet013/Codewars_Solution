{
 "cells": [
  {
   "cell_type": "markdown",
   "id": "345cb24d",
   "metadata": {},
   "source": [
    "#### DESCRIPTION:\n",
    "\n",
    "Write a class Block that creates a block (Duh..)\n",
    "\n",
    "Requirements\n",
    "The constructor should take an array as an argument, this will contain 3 integers of the form [width, length, height] from which the Block should be created.\n",
    "\n",
    "Define these methods:\n",
    "\n",
    "`get_width()` return the width of the `Block`\n",
    "\n",
    "`get_length()` return the length of the `Block`\n",
    "\n",
    "`get_height()` return the height of the `Block`\n",
    "\n",
    "`get_volume()` return the volume of the `Block`\n",
    "\n",
    "`get_surface_area()` return the surface area of the `Block`\n",
    "#### Examples\n",
    "\n",
    "    b = Block([2,4,6]) -> create a `Block` object with a width of `2` a length of `4` and a height of `6`\n",
    "    \n",
    "    b.get_width() -> return 2\n",
    "    \n",
    "    b.get_length() -> return 4\n",
    "    \n",
    "    b.get_height() -> return 6\n",
    "    \n",
    "    b.get_volume() -> return 48\n",
    "    \n",
    "    b.get_surface_area() -> return 88\n",
    "#### Note: no error checking is needed"
   ]
  },
  {
   "cell_type": "code",
   "execution_count": 1,
   "id": "46ee05ce",
   "metadata": {},
   "outputs": [],
   "source": [
    "class Block:\n",
    "    def __init__(self, parameters):\n",
    "        self.width = parameters[0]\n",
    "        self.length = parameters[1]\n",
    "        self.height = parameters[2]\n",
    "        \n",
    "    def get_width(self):\n",
    "        return self.width\n",
    "    \n",
    "    def get_length(self):\n",
    "        return self.length\n",
    "    \n",
    "    def get_height(self):\n",
    "        return self.height\n",
    "    \n",
    "    def get_volume(self):\n",
    "        return self.width * self.length * self.height\n",
    "    \n",
    "    def get_surface_area(self):\n",
    "        return 2 * (self.width * self.length + self.length * self.height + self.width *self.height)"
   ]
  },
  {
   "cell_type": "code",
   "execution_count": 2,
   "id": "ccd80c7b",
   "metadata": {},
   "outputs": [
    {
     "name": "stdout",
     "output_type": "stream",
     "text": [
      "Width: 3\n",
      "Length: 4\n",
      "Height: 5\n",
      "Volume: 60\n",
      "Surface Area: 94\n"
     ]
    }
   ],
   "source": [
    "block_parameters = [3, 4, 5]\n",
    "block = Block(block_parameters)\n",
    "print(\"Width:\", block.get_width())\n",
    "print(\"Length:\", block.get_length())\n",
    "print(\"Height:\", block.get_height())\n",
    "print(\"Volume:\", block.get_volume())\n",
    "print(\"Surface Area:\", block.get_surface_area())"
   ]
  },
  {
   "cell_type": "code",
   "execution_count": null,
   "id": "2ef0f9d6",
   "metadata": {},
   "outputs": [],
   "source": []
  }
 ],
 "metadata": {
  "kernelspec": {
   "display_name": "Python 3 (ipykernel)",
   "language": "python",
   "name": "python3"
  },
  "language_info": {
   "codemirror_mode": {
    "name": "ipython",
    "version": 3
   },
   "file_extension": ".py",
   "mimetype": "text/x-python",
   "name": "python",
   "nbconvert_exporter": "python",
   "pygments_lexer": "ipython3",
   "version": "3.11.3"
  }
 },
 "nbformat": 4,
 "nbformat_minor": 5
}
