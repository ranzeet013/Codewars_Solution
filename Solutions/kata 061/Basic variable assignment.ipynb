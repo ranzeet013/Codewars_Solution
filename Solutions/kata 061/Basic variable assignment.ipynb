{
 "cells": [
  {
   "cell_type": "markdown",
   "id": "bbd32eea",
   "metadata": {},
   "source": [
    "#### DESCRIPTION:\n",
    "\n",
    "This code should store \"codewa.rs\" as a variable called name but it's not working. Can you figure out why?"
   ]
  },
  {
   "cell_type": "code",
   "execution_count": 1,
   "id": "154f45c2",
   "metadata": {},
   "outputs": [],
   "source": [
    "a = \"code\"\n",
    "b = \"wa.rs\"\n",
    "name = a + b"
   ]
  },
  {
   "cell_type": "code",
   "execution_count": null,
   "id": "04dcb995",
   "metadata": {},
   "outputs": [],
   "source": []
  }
 ],
 "metadata": {
  "kernelspec": {
   "display_name": "Python 3 (ipykernel)",
   "language": "python",
   "name": "python3"
  },
  "language_info": {
   "codemirror_mode": {
    "name": "ipython",
    "version": 3
   },
   "file_extension": ".py",
   "mimetype": "text/x-python",
   "name": "python",
   "nbconvert_exporter": "python",
   "pygments_lexer": "ipython3",
   "version": "3.11.3"
  }
 },
 "nbformat": 4,
 "nbformat_minor": 5
}
