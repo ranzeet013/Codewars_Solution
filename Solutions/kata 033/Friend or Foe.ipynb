{
 "cells": [
  {
   "cell_type": "markdown",
   "id": "249cf533",
   "metadata": {},
   "source": [
    "#### DESCRIPTION:\n",
    "Make a program that filters a list of strings and returns a list with only your friends name in it.\n",
    "\n",
    "If a name has exactly 4 letters in it, you can be sure that it has to be a friend of yours! Otherwise, you can be sure he's not...\n",
    "\n",
    "Ex: Input = [\"Ryan\", \"Kieran\", \"Jason\", \"Yous\"], Output = [\"Ryan\", \"Yous\"]\n",
    "\n",
    "i.e.\n",
    "\n",
    "friend [\"Ryan\", \"Kieran\", \"Mark\"] `shouldBe` [\"Ryan\", \"Mark\"]\n",
    "\n",
    "Note: keep the original order of the names in the output."
   ]
  },
  {
   "cell_type": "code",
   "execution_count": 1,
   "id": "ac0a3fbb",
   "metadata": {},
   "outputs": [],
   "source": [
    "def friend(x):\n",
    "    return [f for f in x if len(f) == 4]"
   ]
  },
  {
   "cell_type": "code",
   "execution_count": 3,
   "id": "76eb37e4",
   "metadata": {},
   "outputs": [
    {
     "name": "stdout",
     "output_type": "stream",
     "text": [
      "['Ryan', 'Yous']\n"
     ]
    }
   ],
   "source": [
    "names = [\"Ryan\", \"Kieran\", \"Jason\", \"Yous\"]\n",
    "print(friend(names))"
   ]
  },
  {
   "cell_type": "code",
   "execution_count": null,
   "id": "48ccfe2a",
   "metadata": {},
   "outputs": [],
   "source": []
  }
 ],
 "metadata": {
  "kernelspec": {
   "display_name": "Python 3 (ipykernel)",
   "language": "python",
   "name": "python3"
  },
  "language_info": {
   "codemirror_mode": {
    "name": "ipython",
    "version": 3
   },
   "file_extension": ".py",
   "mimetype": "text/x-python",
   "name": "python",
   "nbconvert_exporter": "python",
   "pygments_lexer": "ipython3",
   "version": "3.11.3"
  }
 },
 "nbformat": 4,
 "nbformat_minor": 5
}
