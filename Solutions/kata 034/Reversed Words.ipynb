{
 "cells": [
  {
   "cell_type": "markdown",
   "id": "a84b5002",
   "metadata": {},
   "source": [
    "#### DESCRIPTION:\n",
    "Complete the solution so that it reverses all of the words within the string passed in.\n",
    "\n",
    "Words are separated by exactly one space and there are no leading or trailing spaces.\n",
    "\n",
    "#### Example(Input --> Output):\n",
    "\n",
    "\"The greatest victory is that which requires no battle\" --> \"battle no requires which that is victory greatest The\""
   ]
  },
  {
   "cell_type": "code",
   "execution_count": 1,
   "id": "0de345d2",
   "metadata": {},
   "outputs": [],
   "source": [
    "def reverseWords(string):\n",
    "    return ' '.join(reversed(string.split()))"
   ]
  },
  {
   "cell_type": "code",
   "execution_count": 2,
   "id": "382b8b92",
   "metadata": {},
   "outputs": [
    {
     "name": "stdout",
     "output_type": "stream",
     "text": [
      "battle no requires which that is victory greatest The\n"
     ]
    }
   ],
   "source": [
    "sentence = \"The greatest victory is that which requires no battle\"\n",
    "print(reverseWords(sentence))"
   ]
  },
  {
   "cell_type": "code",
   "execution_count": null,
   "id": "f39fa1a3",
   "metadata": {},
   "outputs": [],
   "source": []
  }
 ],
 "metadata": {
  "kernelspec": {
   "display_name": "Python 3 (ipykernel)",
   "language": "python",
   "name": "python3"
  },
  "language_info": {
   "codemirror_mode": {
    "name": "ipython",
    "version": 3
   },
   "file_extension": ".py",
   "mimetype": "text/x-python",
   "name": "python",
   "nbconvert_exporter": "python",
   "pygments_lexer": "ipython3",
   "version": "3.11.3"
  }
 },
 "nbformat": 4,
 "nbformat_minor": 5
}
