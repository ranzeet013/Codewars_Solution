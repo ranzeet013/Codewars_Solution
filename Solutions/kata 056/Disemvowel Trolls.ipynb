{
 "cells": [
  {
   "cell_type": "markdown",
   "id": "6f695278",
   "metadata": {},
   "source": [
    "#### DESCRIPTION:\n",
    "\n",
    "Trolls are attacking your comment section!\n",
    "\n",
    "A common way to deal with this situation is to remove all of the vowels from the trolls' comments, neutralizing the threat.\n",
    "\n",
    "Your task is to write a function that takes a string and return a new string with all vowels removed.\n",
    "\n",
    "For example, the string \"This website is for losers LOL!\" would become \"Ths wbst s fr lsrs LL!\".\n",
    "\n",
    "Note: for this kata y isn't considered a vowel."
   ]
  },
  {
   "cell_type": "code",
   "execution_count": 1,
   "id": "1bf8e58c",
   "metadata": {},
   "outputs": [],
   "source": [
    "def disemvowel(string_):\n",
    "    vowels = \"aeiouAEIOU\"\n",
    "    return ''.join(char for char in string_ if char not in vowels)"
   ]
  },
  {
   "cell_type": "code",
   "execution_count": 2,
   "id": "b341b972",
   "metadata": {},
   "outputs": [
    {
     "name": "stdout",
     "output_type": "stream",
     "text": [
      " cmmn wy t dl wth ths sttn s t rmv ll f th vwls frm th trlls' cmmnts, ntrlzng th thrt\n"
     ]
    }
   ],
   "source": [
    "input_string = \"A common way to deal with this situation is to remove all of the vowels from the trolls' comments, neutralizing the threat\"\n",
    "output_string = disemvowel(input_string)\n",
    "print(output_string)"
   ]
  },
  {
   "cell_type": "code",
   "execution_count": null,
   "id": "b3982688",
   "metadata": {},
   "outputs": [],
   "source": []
  }
 ],
 "metadata": {
  "kernelspec": {
   "display_name": "Python 3 (ipykernel)",
   "language": "python",
   "name": "python3"
  },
  "language_info": {
   "codemirror_mode": {
    "name": "ipython",
    "version": 3
   },
   "file_extension": ".py",
   "mimetype": "text/x-python",
   "name": "python",
   "nbconvert_exporter": "python",
   "pygments_lexer": "ipython3",
   "version": "3.11.3"
  }
 },
 "nbformat": 4,
 "nbformat_minor": 5
}
