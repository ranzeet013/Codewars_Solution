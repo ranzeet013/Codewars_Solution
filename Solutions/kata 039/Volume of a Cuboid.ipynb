{
 "cells": [
  {
   "cell_type": "markdown",
   "id": "b8526d5b",
   "metadata": {},
   "source": [
    "Bob needs a fast way to calculate the volume of a cuboid with three values: the length, width and height of the cuboid. Write a function to help Bob with this calculation."
   ]
  },
  {
   "cell_type": "code",
   "execution_count": 1,
   "id": "bcd47f6a",
   "metadata": {},
   "outputs": [],
   "source": [
    "def get_volume_of_cuboid(length, width, height):\n",
    "    return length * width *height"
   ]
  },
  {
   "cell_type": "code",
   "execution_count": 2,
   "id": "f9e14cad",
   "metadata": {},
   "outputs": [
    {
     "name": "stdout",
     "output_type": "stream",
     "text": [
      "Volume of the cuboid: 30\n"
     ]
    }
   ],
   "source": [
    "length = 5\n",
    "width = 3\n",
    "height = 2\n",
    "volume = get_volume_of_cuboid(length, width, height)\n",
    "print(\"Volume of the cuboid:\", volume)"
   ]
  },
  {
   "cell_type": "code",
   "execution_count": null,
   "id": "12f8206a",
   "metadata": {},
   "outputs": [],
   "source": []
  }
 ],
 "metadata": {
  "kernelspec": {
   "display_name": "Python 3 (ipykernel)",
   "language": "python",
   "name": "python3"
  },
  "language_info": {
   "codemirror_mode": {
    "name": "ipython",
    "version": 3
   },
   "file_extension": ".py",
   "mimetype": "text/x-python",
   "name": "python",
   "nbconvert_exporter": "python",
   "pygments_lexer": "ipython3",
   "version": "3.11.3"
  }
 },
 "nbformat": 4,
 "nbformat_minor": 5
}
