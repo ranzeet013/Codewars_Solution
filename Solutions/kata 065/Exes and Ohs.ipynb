{
 "cells": [
  {
   "cell_type": "markdown",
   "id": "6cb99763",
   "metadata": {},
   "source": [
    "#### DESCRIPTION:\n",
    "\n",
    "Check to see if a string has the same amount of 'x's and 'o's. The method must return a boolean and be case insensitive. The string can contain any char.\n",
    "\n",
    "#### Examples input/output:\n",
    "\n",
    "XO(\"ooxx\") => true\n",
    "\n",
    "XO(\"xooxx\") => false\n",
    "\n",
    "XO(\"ooxXm\") => true\n",
    "\n",
    "XO(\"zpzpzpp\") => true // when no 'x' and 'o' is present should return true\n",
    "\n",
    "XO(\"zzoo\") => false"
   ]
  },
  {
   "cell_type": "code",
   "execution_count": 1,
   "id": "b08cc8cb",
   "metadata": {},
   "outputs": [],
   "source": [
    "def xo(s):\n",
    "    s = s.lower()\n",
    "    return s.count('x') == s.count('o')"
   ]
  },
  {
   "cell_type": "code",
   "execution_count": 2,
   "id": "87caa992",
   "metadata": {},
   "outputs": [
    {
     "name": "stdout",
     "output_type": "stream",
     "text": [
      "False\n"
     ]
    }
   ],
   "source": [
    "print(xo(\"xooxx\")) "
   ]
  },
  {
   "cell_type": "code",
   "execution_count": null,
   "id": "af6b5459",
   "metadata": {},
   "outputs": [],
   "source": []
  }
 ],
 "metadata": {
  "kernelspec": {
   "display_name": "Python 3 (ipykernel)",
   "language": "python",
   "name": "python3"
  },
  "language_info": {
   "codemirror_mode": {
    "name": "ipython",
    "version": 3
   },
   "file_extension": ".py",
   "mimetype": "text/x-python",
   "name": "python",
   "nbconvert_exporter": "python",
   "pygments_lexer": "ipython3",
   "version": "3.11.3"
  }
 },
 "nbformat": 4,
 "nbformat_minor": 5
}
