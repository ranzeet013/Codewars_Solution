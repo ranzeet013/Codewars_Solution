{
 "cells": [
  {
   "cell_type": "code",
   "execution_count": 3,
   "id": "1e28e1b4",
   "metadata": {},
   "outputs": [
    {
     "name": "stdout",
     "output_type": "stream",
     "text": [
      "1994\n"
     ]
    }
   ],
   "source": [
    "class Solution:\n",
    "    def romanToInt(self, s: str) -> int:\n",
    "        roman = {\"I\": 1, \"V\": 5, \"X\": 10, \"L\": 50, \"C\": 100, \"D\": 500, \"M\": 1000}\n",
    "        z = 0\n",
    "        prev_value = 0\n",
    "        \n",
    "        for i in range(len(s) - 1, -1, -1):\n",
    "            current_value = roman[s[i]]\n",
    "            if current_value < prev_value:\n",
    "                z -= current_value\n",
    "            else:\n",
    "                z += current_value\n",
    "            prev_value = current_value\n",
    "        \n",
    "        return z\n",
    "\n",
    "solution = Solution()\n",
    "result = solution.romanToInt(\"MCMXCIV\")\n",
    "print(result)\n"
   ]
  },
  {
   "cell_type": "code",
   "execution_count": null,
   "id": "c9f78c3b",
   "metadata": {},
   "outputs": [],
   "source": []
  }
 ],
 "metadata": {
  "kernelspec": {
   "display_name": "Python 3 (ipykernel)",
   "language": "python",
   "name": "python3"
  },
  "language_info": {
   "codemirror_mode": {
    "name": "ipython",
    "version": 3
   },
   "file_extension": ".py",
   "mimetype": "text/x-python",
   "name": "python",
   "nbconvert_exporter": "python",
   "pygments_lexer": "ipython3",
   "version": "3.10.9"
  }
 },
 "nbformat": 4,
 "nbformat_minor": 5
}
