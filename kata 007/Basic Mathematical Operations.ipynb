{
 "cells": [
  {
   "cell_type": "markdown",
   "id": "1a099414",
   "metadata": {},
   "source": [
    "### DESCRIPTION:\n",
    "Your task is to create a function that does four basic mathematical operations.\n",
    "\n",
    "The function should take three arguments - operation(string/char), value1(number), value2(number).\n",
    "The function should return result of numbers after applying the chosen operation.\n",
    "\n",
    "Examples(Operator, value1, value2) --> output\n",
    "\n",
    "('+', 4, 7) --> 11\n",
    "\n",
    "('-', 15, 18) --> -3\n",
    "\n",
    "('*', 5, 5) --> 25\n",
    "\n",
    "('/', 49, 7) --> 7"
   ]
  },
  {
   "cell_type": "code",
   "execution_count": 1,
   "id": "e3b24b17",
   "metadata": {},
   "outputs": [],
   "source": [
    "def basic_op(operator, value1, value2):\n",
    "    if operator == '+':\n",
    "        return value1 + value2\n",
    "    elif operator == '-':\n",
    "        return value1 - value2\n",
    "    elif operator == '*':\n",
    "        return value1 * value2\n",
    "    elif operator == '/':\n",
    "        return value1 / value2"
   ]
  },
  {
   "cell_type": "code",
   "execution_count": null,
   "id": "dbad7881",
   "metadata": {},
   "outputs": [],
   "source": []
  }
 ],
 "metadata": {
  "kernelspec": {
   "display_name": "Python 3 (ipykernel)",
   "language": "python",
   "name": "python3"
  },
  "language_info": {
   "codemirror_mode": {
    "name": "ipython",
    "version": 3
   },
   "file_extension": ".py",
   "mimetype": "text/x-python",
   "name": "python",
   "nbconvert_exporter": "python",
   "pygments_lexer": "ipython3",
   "version": "3.11.3"
  }
 },
 "nbformat": 4,
 "nbformat_minor": 5
}
