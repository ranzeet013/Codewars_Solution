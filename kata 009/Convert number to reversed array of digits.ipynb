{
 "cells": [
  {
   "cell_type": "markdown",
   "id": "ebef925f",
   "metadata": {},
   "source": [
    "### DESCRIPTION:\n",
    "#### Convert number to reversed array of digits\n",
    "Given a random non-negative number, you have to return the digits of this number within an array in reverse order.\n",
    "\n",
    "Example(Input => Output):\n",
    "\n",
    "35231 => [1,3,2,5,3]\n",
    "\n",
    "0 => [0]"
   ]
  },
  {
   "cell_type": "code",
   "execution_count": 1,
   "id": "56f735f2",
   "metadata": {},
   "outputs": [],
   "source": [
    "def digitize(number):\n",
    "    return [int(digit) for digit in str(number)][::-1]"
   ]
  },
  {
   "cell_type": "code",
   "execution_count": null,
   "id": "2bf075dd",
   "metadata": {},
   "outputs": [],
   "source": []
  }
 ],
 "metadata": {
  "kernelspec": {
   "display_name": "Python 3 (ipykernel)",
   "language": "python",
   "name": "python3"
  },
  "language_info": {
   "codemirror_mode": {
    "name": "ipython",
    "version": 3
   },
   "file_extension": ".py",
   "mimetype": "text/x-python",
   "name": "python",
   "nbconvert_exporter": "python",
   "pygments_lexer": "ipython3",
   "version": "3.11.3"
  }
 },
 "nbformat": 4,
 "nbformat_minor": 5
}
